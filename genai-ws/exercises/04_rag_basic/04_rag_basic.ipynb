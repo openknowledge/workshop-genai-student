{
 "cells": [
  {
   "cell_type": "markdown",
   "metadata": {
    "id": "SxQu4eGGDrJe"
   },
   "source": [
    "# Step 1: Set up the environment"
   ]
  },
  {
   "cell_type": "code",
   "execution_count": 109,
   "metadata": {
    "colab": {
     "base_uri": "https://localhost:8080/"
    },
    "id": "J595XWK4AuQ-",
    "outputId": "1e62adfb-80c3-4c90-cc56-de64df140dbd"
   },
   "outputs": [
    {
     "name": "stdout",
     "output_type": "stream",
     "text": [
      "Running on COLAB environment.\n"
     ]
    }
   ],
   "source": [
    "import os\n",
    "import google.generativeai as genai\n",
    "\n",
    "if os.getenv(\"COLAB_RELEASE_TAG\"):\n",
    "   COLAB = True\n",
    "   print(\"Running on COLAB environment.\")\n",
    "else:\n",
    "   COLAB = False\n",
    "   print(\"WARNING: Running on LOCAL environment.\")\n"
   ]
  },
  {
   "cell_type": "code",
   "execution_count": 110,
   "metadata": {
    "id": "z06SMoItD5kL"
   },
   "outputs": [],
   "source": [
    "# import colab specific lib to read user data (aka colab managed secrets)\n",
    "from google.colab import userdata"
   ]
  },
  {
   "cell_type": "code",
   "execution_count": 111,
   "metadata": {
    "id": "-DqbDZeWD6nS"
   },
   "outputs": [],
   "source": [
    "# Initialize Google GenAI Client API with GOOGLE_API_KEY to be able to call the model.\n",
    "# Note: GEMINI_API_KEY must be set as COLAB userdata before!\n",
    "GOOGLE_API_KEY=userdata.get('GEMINI_API_KEY')\n",
    "genai.configure(api_key=GOOGLE_API_KEY)"
   ]
  },
  {
   "cell_type": "code",
   "execution_count": 112,
   "metadata": {
    "collapsed": true,
    "id": "OFEsl___H2n4"
   },
   "outputs": [],
   "source": [
    "# Install additional libraries\n",
    "%%capture\n",
    "!pip install langchain-community\n",
    "!pip install -qU langchain-text-splitters\n",
    "!pip install chromadb"
   ]
  },
  {
   "cell_type": "code",
   "execution_count": 113,
   "metadata": {
    "id": "l3UN1LX-IEcp"
   },
   "outputs": [],
   "source": [
    "# Import additional libraries\n",
    "from langchain_text_splitters import RecursiveCharacterTextSplitter\n",
    "from chromadb import EphemeralClient\n",
    "import requests\n",
    "import re\n",
    "import uuid"
   ]
  },
  {
   "cell_type": "code",
   "execution_count": 114,
   "metadata": {
    "id": "RKG1EPEGdvvC"
   },
   "outputs": [],
   "source": [
    "# Set default values for model, model parameters and prompt\n",
    "DEFAULT_MODEL = \"gemini-1.5-flash\"\n",
    "DEFAULT_CONFIG_TEMPERATURE = 0.9\n",
    "DEFAULT_CONFIG_TOP_K = 1\n",
    "DEFAULT_CONFIG_MAX_OUTPUT_TOKENS = 200\n",
    "DEFAULT_SYSTEM_PROMPT = \"Your are a friendly assistant\"\n",
    "DEFAULT_USER_PROMPT = \"\""
   ]
  },
  {
   "cell_type": "markdown",
   "metadata": {
    "id": "n9KmE1dxPJzm"
   },
   "source": [
    "## Define helper functions"
   ]
  },
  {
   "cell_type": "code",
   "execution_count": null,
   "metadata": {
    "id": "CJW72wGgPOxt"
   },
   "outputs": [],
   "source": [
    "# This will be the chromadb collection we use as a knowledge base. We do not need the in-memory EphemeralClient.\n",
    "chromadb_collection = EphemeralClient().get_or_create_collection(name=\"default\")\n",
    "\n",
    "# The books are downloaded from the repository\n",
    "def download_file(file_name: str) -> str:\n",
    "  book_repository_github_user_name= 'TimWue'\n",
    "  book_repository_github_repository_name= 'project-gutenberg-books'\n",
    "  url = f\"https://raw.githubusercontent.com/{book_repository_github_user_name}/{book_repository_github_repository_name}/main/{file_name}\"\n",
    "  r = requests.get(url)\n",
    "  return r.text\n",
    "\n",
    "# Prepare book content\n",
    "def remove_useless_information(text: str) -> str:\n",
    "  start_pattern = r\"\\*\\*\\* START OF (THE|THIS) PROJECT GUTENBERG EBOOK .{0,50} \\*\\*\\*\"\n",
    "  end_pattern = r\"\\*\\*\\* END OF (THE|THIS) PROJECT GUTENBERG EBOOK .{0,50} \\*\\*\\*\"\n",
    "  start_match = re.search(start_pattern, text)\n",
    "  end_match = re.search(end_pattern, text)\n",
    "  start_pos = start_match.end()\n",
    "  end_pos = end_match.start()\n",
    "  return text[start_pos:end_pos].strip()\n",
    "\n",
    "# Prepare book content\n",
    "def clean_whitespace(text: str) -> str:\n",
    "    cleaned_text = text.replace('\\\\r\\\\n', ' ')\n",
    "    return cleaned_text.strip()\n",
    "\n",
    "# Prepare book content\n",
    "def prepare_file_content(text: str) -> str:\n",
    "  return clean_whitespace(remove_useless_information(text))\n",
    "\n",
    "# Have a look into the knowledgebase\n",
    "def peek_knowledgebase():\n",
    "  print(chromadb_collection.peek())"
   ]
  },
  {
   "cell_type": "code",
   "execution_count": 116,
   "metadata": {
    "id": "4s8AAOATdqCa"
   },
   "outputs": [],
   "source": [
    "def call_genai_model_for_completion(\n",
    "        model_name: str = DEFAULT_MODEL,\n",
    "        config_temperature:float = DEFAULT_CONFIG_TEMPERATURE,\n",
    "        config_top_k: int = DEFAULT_CONFIG_TOP_K,\n",
    "        config_max_output_tokens: int = DEFAULT_CONFIG_MAX_OUTPUT_TOKENS,\n",
    "        system_prompt : str = DEFAULT_SYSTEM_PROMPT,\n",
    "        user_prompt : str = DEFAULT_USER_PROMPT,\n",
    "        verbose: bool = False\n",
    "        ):\n",
    "\n",
    "    if verbose:\n",
    "        # print out summary of input values / parameters\n",
    "        print(f'Generating answer for following config:')\n",
    "        print(f'  - SYSTEM PROMPT used:\\n {system_prompt}')\n",
    "        print(f'  - USER PROMPT used:\\n {user_prompt}')\n",
    "        print(f'  - MODEL used:\\n {model_name} (temperature = {config_temperature}, top_k = {config_top_k}, max_output_tokens = {config_max_output_tokens})')\n",
    "\n",
    "    # create generation config\n",
    "    model_config = genai.GenerationConfig(\n",
    "        max_output_tokens=config_max_output_tokens,\n",
    "        temperature=config_temperature,\n",
    "        top_k=config_top_k\n",
    "    )\n",
    "\n",
    "    # create genai model with generation config\n",
    "    genai_model = genai.GenerativeModel(\n",
    "        model_name= model_name,\n",
    "        generation_config= model_config\n",
    "    )\n",
    "\n",
    "    response = genai_model.generate_content([system_prompt, user_prompt])\n",
    "    return response"
   ]
  },
  {
   "cell_type": "code",
   "execution_count": 117,
   "metadata": {
    "id": "K4fP0xbJeLAK"
   },
   "outputs": [],
   "source": [
    "def print_completion_result(completion_result, full:bool = False):\n",
    "\n",
    "    # print out answer of genai model (aka text of response)\n",
    "    print(f'\\nANSWER of genAI model: \\n')\n",
    "    if full:\n",
    "        print(completion_result)\n",
    "    else:\n",
    "        print(completion_result.text)"
   ]
  },
  {
   "cell_type": "markdown",
   "metadata": {
    "id": "HqcAgsAzEl2A"
   },
   "source": [
    "# Step 2: Configure the genAI models"
   ]
  },
  {
   "cell_type": "code",
   "execution_count": 118,
   "metadata": {
    "id": "zWcu0XZgEucE"
   },
   "outputs": [],
   "source": [
    "GENERATION_MODEL = \"gemini-1.5-flash\"\n",
    "EMBEDDING_MODEL = \"models/text-embedding-004\""
   ]
  },
  {
   "cell_type": "markdown",
   "metadata": {
    "id": "EigTzQ_eAWd1"
   },
   "source": [
    "# Step 3: Configure retriever"
   ]
  },
  {
   "cell_type": "code",
   "execution_count": 133,
   "metadata": {
    "id": "FeNQxSjSALrG"
   },
   "outputs": [],
   "source": [
    "DEFAULT_K = 3\n",
    "DEFAULT_CHUNK_SIZE = 2000\n",
    "DEFAULT_CHUNK_OVERLAP = 100"
   ]
  },
  {
   "cell_type": "markdown",
   "metadata": {
    "id": "Xd-X4JzHCBui"
   },
   "source": [
    "# Step 4: Define RAG Building Blocks"
   ]
  },
  {
   "cell_type": "code",
   "execution_count": null,
   "metadata": {
    "id": "Sd_hrTtE-chD"
   },
   "outputs": [],
   "source": [
    "# Get content of books. The content will already be cleansed.\n",
    "def load_file_content(file_name: str) -> str:\n",
    "  raw_content = download_file(file_name)\n",
    "  return prepare_file_content(raw_content)\n"
   ]
  },
  {
   "cell_type": "code",
   "execution_count": 120,
   "metadata": {
    "id": "BquBXbJxBYWd"
   },
   "outputs": [],
   "source": [
    "# Building Block \"Chunking\": Split the content into smaller chunks\n",
    "def do_chunk(text: str) -> list[str]:\n",
    "  text_splitter = RecursiveCharacterTextSplitter(\n",
    "      chunk_size=DEFAULT_CHUNK_SIZE,\n",
    "      chunk_overlap=DEFAULT_CHUNK_OVERLAP,\n",
    "      length_function=len,\n",
    "  )\n",
    "  return text_splitter.split_text(text=text)"
   ]
  },
  {
   "cell_type": "code",
   "execution_count": 121,
   "metadata": {
    "id": "1cuFXzCyBxdU"
   },
   "outputs": [],
   "source": [
    "# Building Block \"Embedding\": Create multi dimensional embeddings for a given chunk.\n",
    "def do_embed(chunk: str) -> list[float]:\n",
    "  return genai.embed_content(model=EMBEDDING_MODEL, content=chunk).get(\"embedding\")"
   ]
  },
  {
   "cell_type": "code",
   "execution_count": 122,
   "metadata": {
    "id": "hpJduX2pSzxi"
   },
   "outputs": [],
   "source": [
    "# Building Block \"Knowledgebase\": Store embeddings and the corresponding content in a vectorstore\n",
    "def persist_embeddings(chunks: list[str], embeddings: list[float])-> None:\n",
    "  ids = [str(uuid.uuid4()) for _ in chunks]\n",
    "  chromadb_collection.add(ids=ids, documents=chunks, embeddings=embeddings)"
   ]
  },
  {
   "cell_type": "code",
   "execution_count": 123,
   "metadata": {
    "id": "Fyut_CCPC37U"
   },
   "outputs": [],
   "source": [
    "# Building Block \"Augmentation\": Create an updated prompt by merging the original user input with the provided context\n",
    "def augment(user_input: str, context: list[str]) -> str:\n",
    "  prepared_context = \"\\n\".join(context)\n",
    "  augmented_prompt = f\"\"\"\n",
    "    Answer the question as detailed as possible from the provided context, make sure to provide all the details, if the answer is not in\n",
    "    provided context just say, \"answer is not available in the context\", don't provide the wrong answer\\n\\n\n",
    "    Context:\\n{prepared_context}?\\n\n",
    "    Question: \\n{user_input}\\n\n",
    "\n",
    "    Answer:\n",
    "  \"\"\"\n",
    "  return augmented_prompt"
   ]
  },
  {
   "cell_type": "code",
   "execution_count": null,
   "metadata": {
    "id": "BKHUg84XDLRp"
   },
   "outputs": [],
   "source": [
    "# Building Block \"Top-k Fetching\": Get the k semantically closest chunks to the user input from the knowledgebase\n",
    "def do_top_k_fetching(user_input_embedding: list[float], k: int) -> list[str]:\n",
    "  # Since we will do the fetching always only for one user_input,\n",
    "  # instead of querying for multiple embeddings simultanously as allowed by the choma API,\n",
    "  # we add the embeddings below to a list and return only the first document (chunk)\n",
    "  return chromadb_collection.query(\n",
    "      query_embeddings=[user_input_embedding],\n",
    "      n_results=k,\n",
    "  )[\"documents\"][0]"
   ]
  },
  {
   "cell_type": "code",
   "execution_count": 125,
   "metadata": {
    "id": "ARQ8Pxo1d7kq"
   },
   "outputs": [],
   "source": [
    "# Building Block \"Generation\": Use the generation model to create a response\n",
    "def generate_response(prompt: str) -> None:\n",
    "  completion_result = call_genai_model_for_completion(\n",
    "      model_name=GENERATION_MODEL,\n",
    "      user_prompt=prompt,\n",
    "  )\n",
    "  print_completion_result(completion_result)"
   ]
  },
  {
   "cell_type": "markdown",
   "metadata": {
    "id": "h7A5e_dY-chC"
   },
   "source": [
    "# Step 5: Create the ingestion pipeline"
   ]
  },
  {
   "cell_type": "code",
   "execution_count": null,
   "metadata": {
    "id": "HalhxNB8-chE"
   },
   "outputs": [],
   "source": [
    "def do_ingestion(file_names: list[str]) -> None:\n",
    "  # Ingest file by file\n",
    "  for file_name in file_names:\n",
    "    # Load prepared book content\n",
    "    file_content = load_file_content(file_name)\n",
    "\n",
    "    # Chunk the content into smaller chunks\n",
    "    chunks = do_chunk(file_content)\n",
    "\n",
    "    # Embed the chunks\n",
    "    embeddings = []\n",
    "    for chunk in chunks:\n",
    "      embedding = do_embed(chunk)\n",
    "      embeddings.append(embedding)\n",
    "\n",
    "    # Persist the embeddings and the chunks in the knowledgebase\n",
    "    persist_embeddings(chunks, embeddings)\n"
   ]
  },
  {
   "cell_type": "markdown",
   "metadata": {
    "id": "8u56sn0894D4"
   },
   "source": [
    "# Step 6: Perform ingestion"
   ]
  },
  {
   "cell_type": "code",
   "execution_count": 127,
   "metadata": {
    "id": "GC2yAP9QWN2x"
   },
   "outputs": [],
   "source": [
    "# Define file names to be ingested\n",
    "file_names = ['study_in_scarlett.txt']\n",
    "\n",
    "# Perform ingestion. Depending on the chunk_size this might take some minutes.\n",
    "do_ingestion(file_names)"
   ]
  },
  {
   "cell_type": "code",
   "execution_count": 132,
   "metadata": {
    "colab": {
     "base_uri": "https://localhost:8080/"
    },
    "id": "DaQ8u7tj_UVG",
    "outputId": "246c7f2a-122f-40c3-cf2b-38af7dff8f7e"
   },
   "outputs": [
    {
     "name": "stdout",
     "output_type": "stream",
     "text": [
      "{'ids': ['9212d43a-d7be-4a8d-91cf-3f4ef354028e', 'd3611b6b-cf49-47e0-bdbb-01faa6b45f37', 'ebdc6b85-d142-4cd7-8bcb-13302a72cebe', 'f7719886-23cf-4421-a0c9-3e8b5406e716', 'b397fa20-7f24-4b86-b702-58bc231fe896', 'd05519ad-aede-4d9b-80a7-6dc94c549da1', '5a41a896-ead5-454b-8fa5-bb44d2603a2b', '957610fe-1e00-4166-9b85-921726415c16', '3b8fa243-c652-4e7c-a6d3-3b296abc57f7', 'e92bc402-8c7a-4f6f-bace-99e93cb246a4'], 'embeddings': array([[ 0.04196839,  0.03947523, -0.0369409 , ..., -0.01241391,\n",
      "         0.05412204, -0.05153552],\n",
      "       [ 0.04687842,  0.01152912, -0.0338999 , ..., -0.02374919,\n",
      "         0.04071308, -0.05223513],\n",
      "       [ 0.02813364,  0.03810108, -0.04354395, ..., -0.02314168,\n",
      "         0.04599097, -0.07435063],\n",
      "       ...,\n",
      "       [ 0.02499893,  0.01168233, -0.04345908, ..., -0.04256863,\n",
      "         0.02365425, -0.03552011],\n",
      "       [ 0.01524693,  0.00685599, -0.04617725, ..., -0.04708918,\n",
      "         0.04234932, -0.04377203],\n",
      "       [ 0.01722268,  0.00676511, -0.03388088, ..., -0.02772887,\n",
      "         0.05045546, -0.08861847]]), 'documents': ['\\\\r\\\\n\\\\r\\\\n\\\\r\\\\n\\\\r\\\\n\\\\r\\\\nA STUDY IN SCARLET\\\\r\\\\n\\\\r\\\\nBy A. Conan Doyle\\\\r\\\\n\\\\r\\\\n\\\\r\\\\n\\\\r\\\\n\\\\r\\\\nCONTENTS\\\\r\\\\n\\\\r\\\\n A STUDY IN SCARLET.\\\\r\\\\n\\\\r\\\\n PART I.\\\\r\\\\n CHAPTER I. MR. SHERLOCK HOLMES.\\\\r\\\\n CHAPTER II. THE SCIENCE OF DEDUCTION.\\\\r\\\\n CHAPTER III. THE LAURISTON GARDENS MYSTERY\\\\r\\\\n CHAPTER IV. WHAT JOHN RANCE HAD TO TELL.\\\\r\\\\n CHAPTER V. OUR ADVERTISEMENT BRINGS A VISITOR.\\\\r\\\\n CHAPTER VI. TOBIAS GREGSON SHOWS WHAT HE CAN DO.\\\\r\\\\n CHAPTER VII. LIGHT IN THE DARKNESS.\\\\r\\\\n\\\\r\\\\n PART II. THE COUNTRY OF THE SAINTS\\\\r\\\\n CHAPTER I. ON THE GREAT ALKALI PLAIN.\\\\r\\\\n CHAPTER II. THE FLOWER OF UTAH.\\\\r\\\\n CHAPTER III. JOHN FERRIER TALKS WITH THE PROPHET.\\\\r\\\\n CHAPTER IV. A FLIGHT FOR LIFE.\\\\r\\\\n CHAPTER V. THE AVENGING ANGELS.\\\\r\\\\n CHAPTER VI. A CONTINUATION OF THE REMINISCENCES OF JOHN WATSON, M.D.\\\\r\\\\n CHAPTER VII. THE CONCLUSION.\\\\r\\\\n\\\\r\\\\n\\\\r\\\\n\\\\r\\\\n\\\\r\\\\nA STUDY IN SCARLET.\\\\r\\\\n\\\\r\\\\n\\\\r\\\\n\\\\r\\\\n\\\\r\\\\nPART I.\\\\r\\\\n\\\\r\\\\n\\\\r\\\\n(_Being a reprint from the Reminiscences of_ JOHN H. WATSON, M.D.,\\\\r\\\\n_Late of the Army Medical Department._)\\\\r\\\\n\\\\r\\\\n\\\\r\\\\n\\\\r\\\\n\\\\r\\\\nCHAPTER I.\\\\r\\\\nMR. SHERLOCK HOLMES.\\\\r\\\\n\\\\r\\\\n\\\\r\\\\nIn the year 1878 I took my degree of Doctor of Medicine of the\\\\r\\\\nUniversity of London, and proceeded to Netley to go through the course\\\\r\\\\nprescribed for surgeons in the army. Having completed my studies there,\\\\r\\\\nI was duly attached to the Fifth Northumberland Fusiliers as Assistant\\\\r\\\\nSurgeon. The regiment was stationed in India at the time, and before I\\\\r\\\\ncould join it, the second Afghan war had broken out. On landing at\\\\r\\\\nBombay, I learned that my corps had advanced through the passes, and\\\\r\\\\nwas already deep in the enemy’s country. I followed, however, with many\\\\r\\\\nother officers who were in the same situation as myself, and succeeded\\\\r\\\\nin reaching Candahar in safety, where I found my regiment, and at once\\\\r\\\\nentered upon my new duties.\\\\r\\\\n\\\\r\\\\nThe campaign brought honours and promotion to many, but for me it had\\\\r\\\\nnothing but misfortune and disaster. I was removed from my brigade and\\\\r\\\\nattached to the Berkshires, with whom I served at the fatal battle of\\\\r\\\\nMaiwand. There I was struck on the shoulder by a Jezail bullet, which\\\\r\\\\nshattered the bone and grazed the subclavian artery. I should have\\\\r\\\\nfallen into the hands of the murderous Ghazis had it not been for the\\\\r\\\\ndevotion and courage shown by Murray, my orderly, who threw me across a\\\\r\\\\npack-horse, and succeeded in bringing me safely to the British lines.\\\\r\\\\n\\\\r\\\\nWorn with pain, and weak from the prolonged hardships which I had\\\\r\\\\nundergone, I was removed, with a great train of wounded sufferers, to\\\\r\\\\nthe base hospital at Peshawar. Here I rallied, and had already improved\\\\r\\\\nso far as to be able to walk about the wards, and even to bask a little\\\\r\\\\nupon the verandah, when I was struck down by enteric fever, that curse\\\\r\\\\nof our Indian possessions. For months my life was despaired of, and\\\\r\\\\nwhen at last I came to myself and became convalescent, I was so weak\\\\r\\\\nand emaciated that a medical board determined that not a day should be\\\\r\\\\nlost in sending me back to England. I was dispatched, accordingly, in\\\\r\\\\nthe troopship “Orontes,” and landed a month later on Portsmouth jetty,\\\\r\\\\nwith my health irretrievably ruined, but with permission from a\\\\r\\\\npaternal government to spend the next nine months in attempting to\\\\r\\\\nimprove it.\\\\r\\\\n\\\\r\\\\nI had neither kith nor kin in England, and was therefore as free as\\\\r\\\\nair—or as free as an income of eleven shillings and sixpence a day will\\\\r\\\\npermit a man to be. Under such circumstances, I naturally gravitated to\\\\r\\\\nLondon, that great cesspool into which all the loungers and idlers of\\\\r\\\\nthe Empire are irresistibly drained. There I stayed for some time at a\\\\r\\\\nprivate hotel in the Strand, leading a comfortless, meaningless\\\\r\\\\nexistence, and spending such money as I had, considerably more freely\\\\r\\\\nthan I ought. So alarming did the state of my finances become, that I\\\\r\\\\nsoon realized that I must either leave the metropolis and rusticate\\\\r\\\\nsomewhere in the country, or that I must make a complete', 'I ought. So alarming did the state of my finances become, that I\\\\r\\\\nsoon realized that I must either leave the metropolis and rusticate\\\\r\\\\nsomewhere in the country, or that I must make a complete alteration in\\\\r\\\\nmy style of living. Choosing the latter alternative, I began by making\\\\r\\\\nup my mind to leave the hotel, and to take up my quarters in some less\\\\r\\\\npretentious and less expensive domicile.\\\\r\\\\n\\\\r\\\\nOn the very day that I had come to this conclusion, I was standing at\\\\r\\\\nthe Criterion Bar, when some one tapped me on the shoulder, and turning\\\\r\\\\nround I recognized young Stamford, who had been a dresser under me at\\\\r\\\\nBarts. The sight of a friendly face in the great wilderness of London\\\\r\\\\nis a pleasant thing indeed to a lonely man. In old days Stamford had\\\\r\\\\nnever been a particular crony of mine, but now I hailed him with\\\\r\\\\nenthusiasm, and he, in his turn, appeared to be delighted to see me. In\\\\r\\\\nthe exuberance of my joy, I asked him to lunch with me at the Holborn,\\\\r\\\\nand we started off together in a hansom.\\\\r\\\\n\\\\r\\\\n“Whatever have you been doing with yourself, Watson?” he asked in\\\\r\\\\nundisguised wonder, as we rattled through the crowded London streets.\\\\r\\\\n“You are as thin as a lath and as brown as a nut.”\\\\r\\\\n\\\\r\\\\nI gave him a short sketch of my adventures, and had hardly concluded it\\\\r\\\\nby the time that we reached our destination.\\\\r\\\\n\\\\r\\\\n“Poor devil!” he said, commiseratingly, after he had listened to my\\\\r\\\\nmisfortunes. “What are you up to now?”\\\\r\\\\n\\\\r\\\\n“Looking for lodgings,” I answered. “Trying to solve the problem as to\\\\r\\\\nwhether it is possible to get comfortable rooms at a reasonable price.”\\\\r\\\\n\\\\r\\\\n“That’s a strange thing,” remarked my companion; “you are the second\\\\r\\\\nman to-day that has used that expression to me.”\\\\r\\\\n\\\\r\\\\n“And who was the first?” I asked.\\\\r\\\\n\\\\r\\\\n“A fellow who is working at the chemical laboratory up at the hospital.\\\\r\\\\nHe was bemoaning himself this morning because he could not get someone\\\\r\\\\nto go halves with him in some nice rooms which he had found, and which\\\\r\\\\nwere too much for his purse.”\\\\r\\\\n\\\\r\\\\n“By Jove!” I cried, “if he really wants someone to share the rooms and\\\\r\\\\nthe expense, I am the very man for him. I should prefer having a\\\\r\\\\npartner to being alone.”\\\\r\\\\n\\\\r\\\\nYoung Stamford looked rather strangely at me over his wine-glass. “You\\\\r\\\\ndon’t know Sherlock Holmes yet,” he said; “perhaps you would not care\\\\r\\\\nfor him as a constant companion.”\\\\r\\\\n\\\\r\\\\n“Why, what is there against him?”\\\\r\\\\n\\\\r\\\\n“Oh, I didn’t say there was anything against him. He is a little queer\\\\r\\\\nin his ideas—an enthusiast in some branches of science. As far as I\\\\r\\\\nknow he is a decent fellow enough.”\\\\r\\\\n\\\\r\\\\n“A medical student, I suppose?” said I.\\\\r\\\\n\\\\r\\\\n“No—I have no idea what he intends to go in for. I believe he is well\\\\r\\\\nup in anatomy, and he is a first-class chemist; but, as far as I know,\\\\r\\\\nhe has never taken out any systematic medical classes. His studies are\\\\r\\\\nvery desultory and eccentric, but he has amassed a lot of out-of-the\\\\r\\\\nway knowledge which would astonish his professors.”\\\\r\\\\n\\\\r\\\\n“Did you never ask him what he was going in for?” I asked.\\\\r\\\\n\\\\r\\\\n“No; he is not a man that it is easy to draw out, though he can be\\\\r\\\\ncommunicative enough when the fancy seizes him.”\\\\r\\\\n\\\\r\\\\n“I should like to meet him,” I said. “If I am to lodge with anyone, I\\\\r\\\\nshould prefer a man of studious and quiet habits. I am not strong\\\\r\\\\nenough yet to stand much noise or excitement. I had enough of both in\\\\r\\\\nAfghanistan to last me for the remainder of my natural existence. How\\\\r\\\\ncould I meet this friend of yours?”\\\\r\\\\n\\\\r\\\\n“He is sure to be at the laboratory,” returned my companion. “He either\\\\r\\\\navoids the place for weeks, or else he works there from morning to\\\\r\\\\nnight. If you like, we shall drive round together after luncheon.”\\\\r\\\\n\\\\r\\\\n“Certainly,” I answered, and the conversation drifted away into other\\\\r\\\\nchannels.\\\\r\\\\n\\\\r\\\\nAs we made our way to the hospital after leaving the Holborn, Stamford\\\\r\\\\ngave me a few more particulars about', 'I answered, and the conversation drifted away into other\\\\r\\\\nchannels.\\\\r\\\\n\\\\r\\\\nAs we made our way to the hospital after leaving the Holborn, Stamford\\\\r\\\\ngave me a few more particulars about the gentleman whom I proposed to\\\\r\\\\ntake as a fellow-lodger.\\\\r\\\\n\\\\r\\\\n“You mustn’t blame me if you don’t get on with him,” he said; “I know\\\\r\\\\nnothing more of him than I have learned from meeting him occasionally\\\\r\\\\nin the laboratory. You proposed this arrangement, so you must not hold\\\\r\\\\nme responsible.”\\\\r\\\\n\\\\r\\\\n“If we don’t get on it will be easy to part company,” I answered. “It\\\\r\\\\nseems to me, Stamford,” I added, looking hard at my companion, “that\\\\r\\\\nyou have some reason for washing your hands of the matter. Is this\\\\r\\\\nfellow’s temper so formidable, or what is it? Don’t be mealy-mouthed\\\\r\\\\nabout it.”\\\\r\\\\n\\\\r\\\\n“It is not easy to express the inexpressible,” he answered with a\\\\r\\\\nlaugh. “Holmes is a little too scientific for my tastes—it approaches\\\\r\\\\nto cold-bloodedness. I could imagine his giving a friend a little pinch\\\\r\\\\nof the latest vegetable alkaloid, not out of malevolence, you\\\\r\\\\nunderstand, but simply out of a spirit of inquiry in order to have an\\\\r\\\\naccurate idea of the effects. To do him justice, I think that he would\\\\r\\\\ntake it himself with the same readiness. He appears to have a passion\\\\r\\\\nfor definite and exact knowledge.”\\\\r\\\\n\\\\r\\\\n“Very right too.”\\\\r\\\\n\\\\r\\\\n“Yes, but it may be pushed to excess. When it comes to beating the\\\\r\\\\nsubjects in the dissecting-rooms with a stick, it is certainly taking\\\\r\\\\nrather a bizarre shape.”\\\\r\\\\n\\\\r\\\\n“Beating the subjects!”\\\\r\\\\n\\\\r\\\\n“Yes, to verify how far bruises may be produced after death. I saw him\\\\r\\\\nat it with my own eyes.”\\\\r\\\\n\\\\r\\\\n“And yet you say he is not a medical student?”\\\\r\\\\n\\\\r\\\\n“No. Heaven knows what the objects of his studies are. But here we are,\\\\r\\\\nand you must form your own impressions about him.” As he spoke, we\\\\r\\\\nturned down a narrow lane and passed through a small side-door, which\\\\r\\\\nopened into a wing of the great hospital. It was familiar ground to me,\\\\r\\\\nand I needed no guiding as we ascended the bleak stone staircase and\\\\r\\\\nmade our way down the long corridor with its vista of whitewashed wall\\\\r\\\\nand dun-coloured doors. Near the further end a low arched passage\\\\r\\\\nbranched away from it and led to the chemical laboratory.\\\\r\\\\n\\\\r\\\\nThis was a lofty chamber, lined and littered with countless bottles.\\\\r\\\\nBroad, low tables were scattered about, which bristled with retorts,\\\\r\\\\ntest-tubes, and little Bunsen lamps, with their blue flickering flames.\\\\r\\\\nThere was only one student in the room, who was bending over a distant\\\\r\\\\ntable absorbed in his work. At the sound of our steps he glanced round\\\\r\\\\nand sprang to his feet with a cry of pleasure. “I’ve found it! I’ve\\\\r\\\\nfound it,” he shouted to my companion, running towards us with a\\\\r\\\\ntest-tube in his hand. “I have found a re-agent which is precipitated\\\\r\\\\nby hæmoglobin, and by nothing else.” Had he discovered a gold mine,\\\\r\\\\ngreater delight could not have shone upon his features.\\\\r\\\\n\\\\r\\\\n“Dr. Watson, Mr. Sherlock Holmes,” said Stamford, introducing us.\\\\r\\\\n\\\\r\\\\n“How are you?” he said cordially, gripping my hand with a strength for\\\\r\\\\nwhich I should hardly have given him credit. “You have been in\\\\r\\\\nAfghanistan, I perceive.”\\\\r\\\\n\\\\r\\\\n“How on earth did you know that?” I asked in astonishment.\\\\r\\\\n\\\\r\\\\n“Never mind,” said he, chuckling to himself. “The question now is about\\\\r\\\\nhæmoglobin. No doubt you see the significance of this discovery of\\\\r\\\\nmine?”\\\\r\\\\n\\\\r\\\\n“It is interesting, chemically, no doubt,” I answered, “but\\\\r\\\\npractically——”\\\\r\\\\n\\\\r\\\\n“Why, man, it is the most practical medico-legal discovery for years.\\\\r\\\\nDon’t you see that it gives us an infallible test for blood stains.\\\\r\\\\nCome over here now!” He seized me by the coat-sleeve in his eagerness,\\\\r\\\\nand drew me over to the table at which he had been working. “Let us\\\\r\\\\nhave some fresh blood,” he said, digging a long bodkin into his finger,\\\\r\\\\nand drawing off the resulting drop of blood in a', 'drew me over to the table at which he had been working. “Let us\\\\r\\\\nhave some fresh blood,” he said, digging a long bodkin into his finger,\\\\r\\\\nand drawing off the resulting drop of blood in a chemical pipette.\\\\r\\\\n“Now, I add this small quantity of blood to a litre of water. You\\\\r\\\\nperceive that the resulting mixture has the appearance of pure water.\\\\r\\\\nThe proportion of blood cannot be more than one in a million. I have no\\\\r\\\\ndoubt, however, that we shall be able to obtain the characteristic\\\\r\\\\nreaction.” As he spoke, he threw into the vessel a few white crystals,\\\\r\\\\nand then added some drops of a transparent fluid. In an instant the\\\\r\\\\ncontents assumed a dull mahogany colour, and a brownish dust was\\\\r\\\\nprecipitated to the bottom of the glass jar.\\\\r\\\\n\\\\r\\\\n“Ha! ha!” he cried, clapping his hands, and looking as delighted as a\\\\r\\\\nchild with a new toy. “What do you think of that?”\\\\r\\\\n\\\\r\\\\n“It seems to be a very delicate test,” I remarked.\\\\r\\\\n\\\\r\\\\n“Beautiful! beautiful! The old Guiacum test was very clumsy and\\\\r\\\\nuncertain. So is the microscopic examination for blood corpuscles. The\\\\r\\\\nlatter is valueless if the stains are a few hours old. Now, this\\\\r\\\\nappears to act as well whether the blood is old or new. Had this test\\\\r\\\\nbeen invented, there are hundreds of men now walking the earth who\\\\r\\\\nwould long ago have paid the penalty of their crimes.”\\\\r\\\\n\\\\r\\\\n“Indeed!” I murmured.\\\\r\\\\n\\\\r\\\\n“Criminal cases are continually hinging upon that one point. A man is\\\\r\\\\nsuspected of a crime months perhaps after it has been committed. His\\\\r\\\\nlinen or clothes are examined, and brownish stains discovered upon\\\\r\\\\nthem. Are they blood stains, or mud stains, or rust stains, or fruit\\\\r\\\\nstains, or what are they? That is a question which has puzzled many an\\\\r\\\\nexpert, and why? Because there was no reliable test. Now we have the\\\\r\\\\nSherlock Holmes’ test, and there will no longer be any difficulty.”\\\\r\\\\n\\\\r\\\\nHis eyes fairly glittered as he spoke, and he put his hand over his\\\\r\\\\nheart and bowed as if to some applauding crowd conjured up by his\\\\r\\\\nimagination.\\\\r\\\\n\\\\r\\\\n“You are to be congratulated,” I remarked, considerably surprised at\\\\r\\\\nhis enthusiasm.\\\\r\\\\n\\\\r\\\\n“There was the case of Von Bischoff at Frankfort last year. He would\\\\r\\\\ncertainly have been hung had this test been in existence. Then there\\\\r\\\\nwas Mason of Bradford, and the notorious Muller, and Lefevre of\\\\r\\\\nMontpellier, and Samson of New Orleans. I could name a score of cases\\\\r\\\\nin which it would have been decisive.”\\\\r\\\\n\\\\r\\\\n“You seem to be a walking calendar of crime,” said Stamford with a\\\\r\\\\nlaugh. “You might start a paper on those lines. Call it the ‘Police\\\\r\\\\nNews of the Past.’”\\\\r\\\\n\\\\r\\\\n“Very interesting reading it might be made, too,” remarked Sherlock\\\\r\\\\nHolmes, sticking a small piece of plaster over the prick on his finger.\\\\r\\\\n“I have to be careful,” he continued, turning to me with a smile, “for\\\\r\\\\nI dabble with poisons a good deal.” He held out his hand as he spoke,\\\\r\\\\nand I noticed that it was all mottled over with similar pieces of\\\\r\\\\nplaster, and discoloured with strong acids.\\\\r\\\\n\\\\r\\\\n“We came here on business,” said Stamford, sitting down on a high\\\\r\\\\nthree-legged stool, and pushing another one in my direction with his\\\\r\\\\nfoot. “My friend here wants to take diggings, and as you were\\\\r\\\\ncomplaining that you could get no one to go halves with you, I thought\\\\r\\\\nthat I had better bring you together.”\\\\r\\\\n\\\\r\\\\nSherlock Holmes seemed delighted at the idea of sharing his rooms with\\\\r\\\\nme. “I have my eye on a suite in Baker Street,” he said, “which would\\\\r\\\\nsuit us down to the ground. You don’t mind the smell of strong tobacco,\\\\r\\\\nI hope?”\\\\r\\\\n\\\\r\\\\n“I always smoke ‘ship’s’ myself,” I answered.\\\\r\\\\n\\\\r\\\\n“That’s good enough. I generally have chemicals about, and occasionally\\\\r\\\\ndo experiments. Would that annoy you?”\\\\r\\\\n\\\\r\\\\n“By no means.”\\\\r\\\\n\\\\r\\\\n“Let me see—what are my other shortcomings. I get in the dumps at\\\\r\\\\ntimes, and don’t open my mouth for days on end. You must not think I am\\\\r\\\\nsulky when I do that.', 'no means.”\\\\r\\\\n\\\\r\\\\n“Let me see—what are my other shortcomings. I get in the dumps at\\\\r\\\\ntimes, and don’t open my mouth for days on end. You must not think I am\\\\r\\\\nsulky when I do that. Just let me alone, and I’ll soon be right. What\\\\r\\\\nhave you to confess now? It’s just as well for two fellows to know the\\\\r\\\\nworst of one another before they begin to live together.”\\\\r\\\\n\\\\r\\\\nI laughed at this cross-examination. “I keep a bull pup,” I said, “and\\\\r\\\\nI object to rows because my nerves are shaken, and I get up at all\\\\r\\\\nsorts of ungodly hours, and I am extremely lazy. I have another set of\\\\r\\\\nvices when I’m well, but those are the principal ones at present.”\\\\r\\\\n\\\\r\\\\n“Do you include violin-playing in your category of rows?” he asked,\\\\r\\\\nanxiously.\\\\r\\\\n\\\\r\\\\n“It depends on the player,” I answered. “A well-played violin is a\\\\r\\\\ntreat for the gods—a badly-played one——”\\\\r\\\\n\\\\r\\\\n“Oh, that’s all right,” he cried, with a merry laugh. “I think we may\\\\r\\\\nconsider the thing as settled—that is, if the rooms are agreeable to\\\\r\\\\nyou.”\\\\r\\\\n\\\\r\\\\n“When shall we see them?”\\\\r\\\\n\\\\r\\\\n“Call for me here at noon to-morrow, and we’ll go together and settle\\\\r\\\\neverything,” he answered.\\\\r\\\\n\\\\r\\\\n“All right—noon exactly,” said I, shaking his hand.\\\\r\\\\n\\\\r\\\\nWe left him working among his chemicals, and we walked together towards\\\\r\\\\nmy hotel.\\\\r\\\\n\\\\r\\\\n“By the way,” I asked suddenly, stopping and turning upon Stamford,\\\\r\\\\n“how the deuce did he know that I had come from Afghanistan?”\\\\r\\\\n\\\\r\\\\nMy companion smiled an enigmatical smile. “That’s just his little\\\\r\\\\npeculiarity,” he said. “A good many people have wanted to know how he\\\\r\\\\nfinds things out.”\\\\r\\\\n\\\\r\\\\n“Oh! a mystery is it?” I cried, rubbing my hands. “This is very\\\\r\\\\npiquant. I am much obliged to you for bringing us together. ‘The proper\\\\r\\\\nstudy of mankind is man,’ you know.”\\\\r\\\\n\\\\r\\\\n“You must study him, then,” Stamford said, as he bade me good-bye.\\\\r\\\\n“You’ll find him a knotty problem, though. I’ll wager he learns more\\\\r\\\\nabout you than you about him. Good-bye.”\\\\r\\\\n\\\\r\\\\n“Good-bye,” I answered, and strolled on to my hotel, considerably\\\\r\\\\ninterested in my new acquaintance.\\\\r\\\\n\\\\r\\\\n\\\\r\\\\n\\\\r\\\\n\\\\r\\\\nCHAPTER II.\\\\r\\\\nTHE SCIENCE OF DEDUCTION.\\\\r\\\\n\\\\r\\\\n\\\\r\\\\nWe met next day as he had arranged, and inspected the rooms at No.\\\\r\\\\n221B, Baker Street, of which he had spoken at our meeting. They\\\\r\\\\nconsisted of a couple of comfortable bed-rooms and a single large airy\\\\r\\\\nsitting-room, cheerfully furnished, and illuminated by two broad\\\\r\\\\nwindows. So desirable in every way were the apartments, and so moderate\\\\r\\\\ndid the terms seem when divided between us, that the bargain was\\\\r\\\\nconcluded upon the spot, and we at once entered into possession. That\\\\r\\\\nvery evening I moved my things round from the hotel, and on the\\\\r\\\\nfollowing morning Sherlock Holmes followed me with several boxes and\\\\r\\\\nportmanteaus. For a day or two we were busily employed in unpacking and\\\\r\\\\nlaying out our property to the best advantage. That done, we gradually\\\\r\\\\nbegan to settle down and to accommodate ourselves to our new\\\\r\\\\nsurroundings.\\\\r\\\\n\\\\r\\\\nHolmes was certainly not a difficult man to live with. He was quiet in\\\\r\\\\nhis ways, and his habits were regular. It was rare for him to be up\\\\r\\\\nafter ten at night, and he had invariably breakfasted and gone out\\\\r\\\\nbefore I rose in the morning. Sometimes he spent his day at the\\\\r\\\\nchemical laboratory, sometimes in the dissecting-rooms, and\\\\r\\\\noccasionally in long walks, which appeared to take him into the lowest\\\\r\\\\nportions of the City. Nothing could exceed his energy when the working\\\\r\\\\nfit was upon him; but now and again a reaction would seize him, and for\\\\r\\\\ndays on end he would lie upon the sofa in the sitting-room, hardly\\\\r\\\\nuttering a word or moving a muscle from morning to night. On these\\\\r\\\\noccasions I have noticed such a dreamy, vacant expression in his eyes,\\\\r\\\\nthat I might have suspected him of being addicted to the use of some\\\\r\\\\nnarcotic, had not the temperance and cleanliness of his whole life\\\\r\\\\nforbidden such a', 'vacant expression in his eyes,\\\\r\\\\nthat I might have suspected him of being addicted to the use of some\\\\r\\\\nnarcotic, had not the temperance and cleanliness of his whole life\\\\r\\\\nforbidden such a notion.\\\\r\\\\n\\\\r\\\\nAs the weeks went by, my interest in him and my curiosity as to his\\\\r\\\\naims in life, gradually deepened and increased. His very person and\\\\r\\\\nappearance were such as to strike the attention of the most casual\\\\r\\\\nobserver. In height he was rather over six feet, and so excessively\\\\r\\\\nlean that he seemed to be considerably taller. His eyes were sharp and\\\\r\\\\npiercing, save during those intervals of torpor to which I have\\\\r\\\\nalluded; and his thin, hawk-like nose gave his whole expression an air\\\\r\\\\nof alertness and decision. His chin, too, had the prominence and\\\\r\\\\nsquareness which mark the man of determination. His hands were\\\\r\\\\ninvariably blotted with ink and stained with chemicals, yet he was\\\\r\\\\npossessed of extraordinary delicacy of touch, as I frequently had\\\\r\\\\noccasion to observe when I watched him manipulating his fragile\\\\r\\\\nphilosophical instruments.\\\\r\\\\n\\\\r\\\\nThe reader may set me down as a hopeless busybody, when I confess how\\\\r\\\\nmuch this man stimulated my curiosity, and how often I endeavoured to\\\\r\\\\nbreak through the reticence which he showed on all that concerned\\\\r\\\\nhimself. Before pronouncing judgment, however, be it remembered, how\\\\r\\\\nobjectless was my life, and how little there was to engage my\\\\r\\\\nattention. My health forbade me from venturing out unless the weather\\\\r\\\\nwas exceptionally genial, and I had no friends who would call upon me\\\\r\\\\nand break the monotony of my daily existence. Under these\\\\r\\\\ncircumstances, I eagerly hailed the little mystery which hung around my\\\\r\\\\ncompanion, and spent much of my time in endeavouring to unravel it.\\\\r\\\\n\\\\r\\\\nHe was not studying medicine. He had himself, in reply to a question,\\\\r\\\\nconfirmed Stamford’s opinion upon that point. Neither did he appear to\\\\r\\\\nhave pursued any course of reading which might fit him for a degree in\\\\r\\\\nscience or any other recognized portal which would give him an entrance\\\\r\\\\ninto the learned world. Yet his zeal for certain studies was\\\\r\\\\nremarkable, and within eccentric limits his knowledge was so\\\\r\\\\nextraordinarily ample and minute that his observations have fairly\\\\r\\\\nastounded me. Surely no man would work so hard or attain such precise\\\\r\\\\ninformation unless he had some definite end in view. Desultory readers\\\\r\\\\nare seldom remarkable for the exactness of their learning. No man\\\\r\\\\nburdens his mind with small matters unless he has some very good reason\\\\r\\\\nfor doing so.\\\\r\\\\n\\\\r\\\\nHis ignorance was as remarkable as his knowledge. Of contemporary\\\\r\\\\nliterature, philosophy and politics he appeared to know next to\\\\r\\\\nnothing. Upon my quoting Thomas Carlyle, he inquired in the naivest way\\\\r\\\\nwho he might be and what he had done. My surprise reached a climax,\\\\r\\\\nhowever, when I found incidentally that he was ignorant of the\\\\r\\\\nCopernican Theory and of the composition of the Solar System. That any\\\\r\\\\ncivilized human being in this nineteenth century should not be aware\\\\r\\\\nthat the earth travelled round the sun appeared to be to me such an\\\\r\\\\nextraordinary fact that I could hardly realize it.\\\\r\\\\n\\\\r\\\\n“You appear to be astonished,” he said, smiling at my expression of\\\\r\\\\nsurprise. “Now that I do know it I shall do my best to forget it.”\\\\r\\\\n\\\\r\\\\n“To forget it!”\\\\r\\\\n\\\\r\\\\n“You see,” he explained, “I consider that a man’s brain originally is\\\\r\\\\nlike a little empty attic, and you have to stock it with such furniture\\\\r\\\\nas you choose. A fool takes in all the lumber of every sort that he\\\\r\\\\ncomes across, so that the knowledge which might be useful to him gets\\\\r\\\\ncrowded out, or at best is jumbled up with a lot of other things so\\\\r\\\\nthat he has a difficulty in laying his hands upon it. Now the skilful\\\\r\\\\nworkman is very careful indeed as to what he takes into his\\\\r\\\\nbrain-attic. He will have nothing but the tools which may help him in\\\\r\\\\ndoing his work, but of these he has a', 'it. Now the skilful\\\\r\\\\nworkman is very careful indeed as to what he takes into his\\\\r\\\\nbrain-attic. He will have nothing but the tools which may help him in\\\\r\\\\ndoing his work, but of these he has a large assortment, and all in the\\\\r\\\\nmost perfect order. It is a mistake to think that that little room has\\\\r\\\\nelastic walls and can distend to any extent. Depend upon it there comes\\\\r\\\\na time when for every addition of knowledge you forget something that\\\\r\\\\nyou knew before. It is of the highest importance, therefore, not to\\\\r\\\\nhave useless facts elbowing out the useful ones.”\\\\r\\\\n\\\\r\\\\n“But the Solar System!” I protested.\\\\r\\\\n\\\\r\\\\n“What the deuce is it to me?” he interrupted impatiently; “you say that\\\\r\\\\nwe go round the sun. If we went round the moon it would not make a\\\\r\\\\npennyworth of difference to me or to my work.”\\\\r\\\\n\\\\r\\\\nI was on the point of asking him what that work might be, but something\\\\r\\\\nin his manner showed me that the question would be an unwelcome one. I\\\\r\\\\npondered over our short conversation, however, and endeavoured to draw\\\\r\\\\nmy deductions from it. He said that he would acquire no knowledge which\\\\r\\\\ndid not bear upon his object. Therefore all the knowledge which he\\\\r\\\\npossessed was such as would be useful to him. I enumerated in my own\\\\r\\\\nmind all the various points upon which he had shown me that he was\\\\r\\\\nexceptionally well-informed. I even took a pencil and jotted them down.\\\\r\\\\nI could not help smiling at the document when I had completed it. It\\\\r\\\\nran in this way—\\\\r\\\\n\\\\r\\\\n\\\\r\\\\nSHERLOCK HOLMES—his limits.\\\\r\\\\n\\\\r\\\\n\\\\r\\\\n1. Knowledge of Literature.—Nil.\\\\r\\\\n2. Philosophy.—Nil.\\\\r\\\\n3. Astronomy.—Nil.\\\\r\\\\n4. Politics.—Feeble.\\\\r\\\\n5. Botany.—Variable. Well up in belladonna, opium, and poisons\\\\r\\\\ngenerally. Knows nothing of practical gardening.\\\\r\\\\n6. Geology.—Practical, but limited. Tells at a glance different soils\\\\r\\\\nfrom each other. After walks has shown me splashes upon his trousers,\\\\r\\\\nand told me by their colour and consistence in what part of London he\\\\r\\\\nhad received them.\\\\r\\\\n7. Chemistry.—Profound.\\\\r\\\\n8. Anatomy.—Accurate, but unsystematic.\\\\r\\\\n9. Sensational Literature.—Immense. He appears to know every detail of\\\\r\\\\nevery horror perpetrated in the century.\\\\r\\\\n10. Plays the violin well.\\\\r\\\\n11. Is an expert singlestick player, boxer, and swordsman.\\\\r\\\\n12. Has a good practical knowledge of British law.\\\\r\\\\n\\\\r\\\\n\\\\r\\\\nWhen I had got so far in my list I threw it into the fire in despair.\\\\r\\\\n“If I can only find what the fellow is driving at by reconciling all\\\\r\\\\nthese accomplishments, and discovering a calling which needs them all,”\\\\r\\\\nI said to myself, “I may as well give up the attempt at once.”\\\\r\\\\n\\\\r\\\\nI see that I have alluded above to his powers upon the violin. These\\\\r\\\\nwere very remarkable, but as eccentric as all his other\\\\r\\\\naccomplishments. That he could play pieces, and difficult pieces, I\\\\r\\\\nknew well, because at my request he has played me some of Mendelssohn’s\\\\r\\\\nLieder, and other favourites. When left to himself, however, he would\\\\r\\\\nseldom produce any music or attempt any recognized air. Leaning back in\\\\r\\\\nhis arm-chair of an evening, he would close his eyes and scrape\\\\r\\\\ncarelessly at the fiddle which was thrown across his knee. Sometimes\\\\r\\\\nthe chords were sonorous and melancholy. Occasionally they were\\\\r\\\\nfantastic and cheerful. Clearly they reflected the thoughts which\\\\r\\\\npossessed him, but whether the music aided those thoughts, or whether\\\\r\\\\nthe playing was simply the result of a whim or fancy was more than I\\\\r\\\\ncould determine. I might have rebelled against these exasperating solos\\\\r\\\\nhad it not been that he usually terminated them by playing in quick\\\\r\\\\nsuccession a whole series of my favourite airs as a slight compensation\\\\r\\\\nfor the trial upon my patience.\\\\r\\\\n\\\\r\\\\nDuring the first week or so we had no callers, and I had begun to think\\\\r\\\\nthat my companion was as friendless a man as I was myself. Presently,\\\\r\\\\nhowever, I found that he had many acquaintances, and those in the most\\\\r\\\\ndifferent classes of', 'and I had begun to think\\\\r\\\\nthat my companion was as friendless a man as I was myself. Presently,\\\\r\\\\nhowever, I found that he had many acquaintances, and those in the most\\\\r\\\\ndifferent classes of society. There was one little sallow rat-faced,\\\\r\\\\ndark-eyed fellow who was introduced to me as Mr. Lestrade, and who came\\\\r\\\\nthree or four times in a single week. One morning a young girl called,\\\\r\\\\nfashionably dressed, and stayed for half an hour or more. The same\\\\r\\\\nafternoon brought a grey-headed, seedy visitor, looking like a Jew\\\\r\\\\npedlar, who appeared to me to be much excited, and who was closely\\\\r\\\\nfollowed by a slip-shod elderly woman. On another occasion an old\\\\r\\\\nwhite-haired gentleman had an interview with my companion; and on\\\\r\\\\nanother a railway porter in his velveteen uniform. When any of these\\\\r\\\\nnondescript individuals put in an appearance, Sherlock Holmes used to\\\\r\\\\nbeg for the use of the sitting-room, and I would retire to my bed-room.\\\\r\\\\nHe always apologized to me for putting me to this inconvenience. “I\\\\r\\\\nhave to use this room as a place of business,” he said, “and these\\\\r\\\\npeople are my clients.” Again I had an opportunity of asking him a\\\\r\\\\npoint blank question, and again my delicacy prevented me from forcing\\\\r\\\\nanother man to confide in me. I imagined at the time that he had some\\\\r\\\\nstrong reason for not alluding to it, but he soon dispelled the idea by\\\\r\\\\ncoming round to the subject of his own accord.\\\\r\\\\n\\\\r\\\\nIt was upon the 4th of March, as I have good reason to remember, that I\\\\r\\\\nrose somewhat earlier than usual, and found that Sherlock Holmes had\\\\r\\\\nnot yet finished his breakfast. The landlady had become so accustomed\\\\r\\\\nto my late habits that my place had not been laid nor my coffee\\\\r\\\\nprepared. With the unreasonable petulance of mankind I rang the bell\\\\r\\\\nand gave a curt intimation that I was ready. Then I picked up a\\\\r\\\\nmagazine from the table and attempted to while away the time with it,\\\\r\\\\nwhile my companion munched silently at his toast. One of the articles\\\\r\\\\nhad a pencil mark at the heading, and I naturally began to run my eye\\\\r\\\\nthrough it.\\\\r\\\\n\\\\r\\\\nIts somewhat ambitious title was “The Book of Life,” and it attempted\\\\r\\\\nto show how much an observant man might learn by an accurate and\\\\r\\\\nsystematic examination of all that came in his way. It struck me as\\\\r\\\\nbeing a remarkable mixture of shrewdness and of absurdity. The\\\\r\\\\nreasoning was close and intense, but the deductions appeared to me to\\\\r\\\\nbe far-fetched and exaggerated. The writer claimed by a momentary\\\\r\\\\nexpression, a twitch of a muscle or a glance of an eye, to fathom a\\\\r\\\\nman’s inmost thoughts. Deceit, according to him, was an impossibility\\\\r\\\\nin the case of one trained to observation and analysis. His conclusions\\\\r\\\\nwere as infallible as so many propositions of Euclid. So startling\\\\r\\\\nwould his results appear to the uninitiated that until they learned the\\\\r\\\\nprocesses by which he had arrived at them they might well consider him\\\\r\\\\nas a necromancer.\\\\r\\\\n\\\\r\\\\n“From a drop of water,” said the writer, “a logician could infer the\\\\r\\\\npossibility of an Atlantic or a Niagara without having seen or heard of\\\\r\\\\none or the other. So all life is a great chain, the nature of which is\\\\r\\\\nknown whenever we are shown a single link of it. Like all other arts,\\\\r\\\\nthe Science of Deduction and Analysis is one which can only be acquired\\\\r\\\\nby long and patient study nor, is life long enough to allow any mortal\\\\r\\\\nto attain the highest possible perfection in it. Before turning to\\\\r\\\\nthose moral and mental aspects of the matter which present the greatest\\\\r\\\\ndifficulties, let the enquirer begin by mastering more elementary\\\\r\\\\nproblems. Let him, on meeting a fellow-mortal, learn at a glance to\\\\r\\\\ndistinguish the history of the man, and the trade or profession to\\\\r\\\\nwhich he belongs. Puerile as such an exercise may seem, it sharpens the\\\\r\\\\nfaculties of observation, and teaches one where to look and what to\\\\r\\\\nlook for. By a man’s finger nails, by his coat-sleeve, by', 'he belongs. Puerile as such an exercise may seem, it sharpens the\\\\r\\\\nfaculties of observation, and teaches one where to look and what to\\\\r\\\\nlook for. By a man’s finger nails, by his coat-sleeve, by his boot, by\\\\r\\\\nhis trouser knees, by the callosities of his forefinger and thumb, by\\\\r\\\\nhis expression, by his shirt cuffs—by each of these things a man’s\\\\r\\\\ncalling is plainly revealed. That all united should fail to enlighten\\\\r\\\\nthe competent enquirer in any case is almost inconceivable.”\\\\r\\\\n\\\\r\\\\n“What ineffable twaddle!” I cried, slapping the magazine down on the\\\\r\\\\ntable, “I never read such rubbish in my life.”\\\\r\\\\n\\\\r\\\\n“What is it?” asked Sherlock Holmes.\\\\r\\\\n\\\\r\\\\n“Why, this article,” I said, pointing at it with my egg spoon as I sat\\\\r\\\\ndown to my breakfast. “I see that you have read it since you have\\\\r\\\\nmarked it. I don’t deny that it is smartly written. It irritates me\\\\r\\\\nthough. It is evidently the theory of some arm-chair lounger who\\\\r\\\\nevolves all these neat little paradoxes in the seclusion of his own\\\\r\\\\nstudy. It is not practical. I should like to see him clapped down in a\\\\r\\\\nthird class carriage on the Underground, and asked to give the trades\\\\r\\\\nof all his fellow-travellers. I would lay a thousand to one against\\\\r\\\\nhim.”\\\\r\\\\n\\\\r\\\\n“You would lose your money,” Sherlock Holmes remarked calmly. “As for\\\\r\\\\nthe article I wrote it myself.”\\\\r\\\\n\\\\r\\\\n“You!”\\\\r\\\\n\\\\r\\\\n“Yes, I have a turn both for observation and for deduction. The\\\\r\\\\ntheories which I have expressed there, and which appear to you to be so\\\\r\\\\nchimerical are really extremely practical—so practical that I depend\\\\r\\\\nupon them for my bread and cheese.”\\\\r\\\\n\\\\r\\\\n“And how?” I asked involuntarily.\\\\r\\\\n\\\\r\\\\n“Well, I have a trade of my own. I suppose I am the only one in the\\\\r\\\\nworld. I’m a consulting detective, if you can understand what that is.\\\\r\\\\nHere in London we have lots of Government detectives and lots of\\\\r\\\\nprivate ones. When these fellows are at fault they come to me, and I\\\\r\\\\nmanage to put them on the right scent. They lay all the evidence before\\\\r\\\\nme, and I am generally able, by the help of my knowledge of the history\\\\r\\\\nof crime, to set them straight. There is a strong family resemblance\\\\r\\\\nabout misdeeds, and if you have all the details of a thousand at your\\\\r\\\\nfinger ends, it is odd if you can’t unravel the thousand and first.\\\\r\\\\nLestrade is a well-known detective. He got himself into a fog recently\\\\r\\\\nover a forgery case, and that was what brought him here.”\\\\r\\\\n\\\\r\\\\n“And these other people?”\\\\r\\\\n\\\\r\\\\n“They are mostly sent on by private inquiry agencies. They are all\\\\r\\\\npeople who are in trouble about something, and want a little\\\\r\\\\nenlightening. I listen to their story, they listen to my comments, and\\\\r\\\\nthen I pocket my fee.”\\\\r\\\\n\\\\r\\\\n“But do you mean to say,” I said, “that without leaving your room you\\\\r\\\\ncan unravel some knot which other men can make nothing of, although\\\\r\\\\nthey have seen every detail for themselves?”\\\\r\\\\n\\\\r\\\\n“Quite so. I have a kind of intuition that way. Now and again a case\\\\r\\\\nturns up which is a little more complex. Then I have to bustle about\\\\r\\\\nand see things with my own eyes. You see I have a lot of special\\\\r\\\\nknowledge which I apply to the problem, and which facilitates matters\\\\r\\\\nwonderfully. Those rules of deduction laid down in that article which\\\\r\\\\naroused your scorn, are invaluable to me in practical work. Observation\\\\r\\\\nwith me is second nature. You appeared to be surprised when I told you,\\\\r\\\\non our first meeting, that you had come from Afghanistan.”\\\\r\\\\n\\\\r\\\\n“You were told, no doubt.”\\\\r\\\\n\\\\r\\\\n“Nothing of the sort. I _knew_ you came from Afghanistan. From long\\\\r\\\\nhabit the train of thoughts ran so swiftly through my mind, that I\\\\r\\\\narrived at the conclusion without being conscious of intermediate\\\\r\\\\nsteps. There were such steps, however. The train of reasoning ran,\\\\r\\\\n‘Here is a gentleman of a medical type, but with the air of a military\\\\r\\\\nman. Clearly an army doctor, then. He has just come from the tropics,\\\\r\\\\nfor his face is dark, and that', 'of reasoning ran,\\\\r\\\\n‘Here is a gentleman of a medical type, but with the air of a military\\\\r\\\\nman. Clearly an army doctor, then. He has just come from the tropics,\\\\r\\\\nfor his face is dark, and that is not the natural tint of his skin, for\\\\r\\\\nhis wrists are fair. He has undergone hardship and sickness, as his\\\\r\\\\nhaggard face says clearly. His left arm has been injured. He holds it\\\\r\\\\nin a stiff and unnatural manner. Where in the tropics could an English\\\\r\\\\narmy doctor have seen much hardship and got his arm wounded? Clearly in\\\\r\\\\nAfghanistan.’ The whole train of thought did not occupy a second. I\\\\r\\\\nthen remarked that you came from Afghanistan, and you were astonished.”\\\\r\\\\n\\\\r\\\\n“It is simple enough as you explain it,” I said, smiling. “You remind\\\\r\\\\nme of Edgar Allen Poe’s Dupin. I had no idea that such individuals did\\\\r\\\\nexist outside of stories.”\\\\r\\\\n\\\\r\\\\nSherlock Holmes rose and lit his pipe. “No doubt you think that you are\\\\r\\\\ncomplimenting me in comparing me to Dupin,” he observed. “Now, in my\\\\r\\\\nopinion, Dupin was a very inferior fellow. That trick of his of\\\\r\\\\nbreaking in on his friends’ thoughts with an apropos remark after a\\\\r\\\\nquarter of an hour’s silence is really very showy and superficial. He\\\\r\\\\nhad some analytical genius, no doubt; but he was by no means such a\\\\r\\\\nphenomenon as Poe appeared to imagine.”\\\\r\\\\n\\\\r\\\\n“Have you read Gaboriau’s works?” I asked. “Does Lecoq come up to your\\\\r\\\\nidea of a detective?”\\\\r\\\\n\\\\r\\\\nSherlock Holmes sniffed sardonically. “Lecoq was a miserable bungler,”\\\\r\\\\nhe said, in an angry voice; “he had only one thing to recommend him,\\\\r\\\\nand that was his energy. That book made me positively ill. The question\\\\r\\\\nwas how to identify an unknown prisoner. I could have done it in\\\\r\\\\ntwenty-four hours. Lecoq took six months or so. It might be made a\\\\r\\\\ntext-book for detectives to teach them what to avoid.”\\\\r\\\\n\\\\r\\\\nI felt rather indignant at having two characters whom I had admired\\\\r\\\\ntreated in this cavalier style. I walked over to the window, and stood\\\\r\\\\nlooking out into the busy street. “This fellow may be very clever,” I\\\\r\\\\nsaid to myself, “but he is certainly very conceited.”\\\\r\\\\n\\\\r\\\\n“There are no crimes and no criminals in these days,” he said,\\\\r\\\\nquerulously. “What is the use of having brains in our profession. I\\\\r\\\\nknow well that I have it in me to make my name famous. No man lives or\\\\r\\\\nhas ever lived who has brought the same amount of study and of natural\\\\r\\\\ntalent to the detection of crime which I have done. And what is the\\\\r\\\\nresult? There is no crime to detect, or, at most, some bungling\\\\r\\\\nvillainy with a motive so transparent that even a Scotland Yard\\\\r\\\\nofficial can see through it.”\\\\r\\\\n\\\\r\\\\nI was still annoyed at his bumptious style of conversation. I thought\\\\r\\\\nit best to change the topic.\\\\r\\\\n\\\\r\\\\n“I wonder what that fellow is looking for?” I asked, pointing to a\\\\r\\\\nstalwart, plainly-dressed individual who was walking slowly down the\\\\r\\\\nother side of the street, looking anxiously at the numbers. He had a\\\\r\\\\nlarge blue envelope in his hand, and was evidently the bearer of a\\\\r\\\\nmessage.\\\\r\\\\n\\\\r\\\\n“You mean the retired sergeant of Marines,” said Sherlock Holmes.\\\\r\\\\n\\\\r\\\\n“Brag and bounce!” thought I to myself. “He knows that I cannot verify\\\\r\\\\nhis guess.”\\\\r\\\\n\\\\r\\\\nThe thought had hardly passed through my mind when the man whom we were\\\\r\\\\nwatching caught sight of the number on our door, and ran rapidly across\\\\r\\\\nthe roadway. We heard a loud knock, a deep voice below, and heavy steps\\\\r\\\\nascending the stair.\\\\r\\\\n\\\\r\\\\n“For Mr. Sherlock Holmes,” he said, stepping into the room and handing\\\\r\\\\nmy friend the letter.\\\\r\\\\n\\\\r\\\\nHere was an opportunity of taking the conceit out of him. He little\\\\r\\\\nthought of this when he made that random shot. “May I ask, my lad,” I\\\\r\\\\nsaid, in the blandest voice, “what your trade may be?”\\\\r\\\\n\\\\r\\\\n“Commissionaire, sir,” he said, gruffly. “Uniform away for repairs.”\\\\r\\\\n\\\\r\\\\n“And you were?” I asked, with a slightly malicious glance at my\\\\r\\\\ncompanion.\\\\r\\\\n\\\\r\\\\n“A sergeant, sir, Royal'], 'uris': None, 'data': None, 'metadatas': [None, None, None, None, None, None, None, None, None, None], 'included': [<IncludeEnum.embeddings: 'embeddings'>, <IncludeEnum.documents: 'documents'>, <IncludeEnum.metadatas: 'metadatas'>]}\n"
     ]
    }
   ],
   "source": [
    "# Use helper function to peek into knowledgebase\n",
    "peek_knowledgebase()"
   ]
  },
  {
   "cell_type": "markdown",
   "metadata": {
    "id": "bAKlDC8WclSD"
   },
   "source": [
    "# Step 7: Create RAG pipeline"
   ]
  },
  {
   "cell_type": "code",
   "execution_count": null,
   "metadata": {
    "id": "Tehtlj-T_wDc"
   },
   "outputs": [],
   "source": [
    "def do_rag(user_input: str, verbose: bool = False) -> None:\n",
    "  # TODO: Embed the user input\n",
    "  user_input_embedding = None\n",
    "\n",
    "  # TODO: \"R\" like \"Retrieval\": Get the k semantically closest chunks to the user input from the knowledgebase\n",
    "  context = None\n",
    "  if verbose:\n",
    "    print(f'Retrieved context:\\n {context}')\n",
    "\n",
    "  # TODO: \"A\" like \"Augmented\": Create the augmented prompt\n",
    "  augmented_prompt = None\n",
    "  if verbose:\n",
    "    print(f'Augmented prompt:\\n {augmented_prompt}')\n",
    "\n",
    "  # TODO: \"G\" like \"Generation\": Generate a response\n",
    "  generate_response(prompt=augmented_prompt)\n"
   ]
  },
  {
   "cell_type": "markdown",
   "metadata": {
    "id": "zNJLZOUOBhxC"
   },
   "source": [
    "# Step 8: Perform RAG"
   ]
  },
  {
   "cell_type": "code",
   "execution_count": null,
   "metadata": {
    "colab": {
     "base_uri": "https://localhost:8080/",
     "height": 104
    },
    "id": "BeRJbjeZcn-i",
    "outputId": "bac7f66a-7551-4539-893e-6647d8c25529"
   },
   "outputs": [],
   "source": [
    "# Define user input. This should be a question regarding the ingested book\n",
    "user_input = \"Lucy noticed a number on the ceiling when taking breakfast. which number was written into the ceiling?\" # The answer should contain the number \"28\"\n",
    "\n",
    "# TODO: Perform retrieval\n"
   ]
  },
  {
   "cell_type": "markdown",
   "metadata": {
    "id": "zyuiQ0WK-chE"
   },
   "source": []
  }
 ],
 "metadata": {
  "colab": {
   "provenance": []
  },
  "kernelspec": {
   "display_name": "Python 3",
   "name": "python3"
  },
  "language_info": {
   "name": "python"
  }
 },
 "nbformat": 4,
 "nbformat_minor": 0
}
