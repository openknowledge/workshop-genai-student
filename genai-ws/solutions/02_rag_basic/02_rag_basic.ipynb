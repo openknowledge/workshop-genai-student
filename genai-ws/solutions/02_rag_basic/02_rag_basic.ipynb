{
 "cells": [
  {
   "cell_type": "markdown",
   "metadata": {
    "id": "SxQu4eGGDrJe"
   },
   "source": [
    "# Step 1: Set up the environment"
   ]
  },
  {
   "cell_type": "code",
   "execution_count": 1,
   "metadata": {
    "colab": {
     "base_uri": "https://localhost:8080/"
    },
    "id": "J595XWK4AuQ-",
    "outputId": "a1938bb5-1455-4b38-9046-d34483775689"
   },
   "outputs": [
    {
     "name": "stdout",
     "output_type": "stream",
     "text": [
      "Running on COLAB environment.\n"
     ]
    }
   ],
   "source": [
    "import os\n",
    "import google.generativeai as genai\n",
    "\n",
    "if os.getenv(\"COLAB_RELEASE_TAG\"):\n",
    "   COLAB = True\n",
    "   print(\"Running on COLAB environment.\")\n",
    "else:\n",
    "   COLAB = False\n",
    "   print(\"WARNING: Running on LOCAL environment.\")\n"
   ]
  },
  {
   "cell_type": "code",
   "execution_count": 2,
   "metadata": {
    "colab": {
     "base_uri": "https://localhost:8080/"
    },
    "id": "kSXmw0hLxgSi",
    "outputId": "895b192f-cc12-4c92-d1d9-6482804b3862"
   },
   "outputs": [
    {
     "name": "stdout",
     "output_type": "stream",
     "text": [
      "Cloning into 'workshop-genai-data'...\n",
      "remote: Enumerating objects: 28, done.\u001b[K\n",
      "remote: Counting objects: 100% (28/28), done.\u001b[K\n",
      "remote: Compressing objects: 100% (20/20), done.\u001b[K\n",
      "remote: Total 28 (delta 6), reused 20 (delta 3), pack-reused 0 (from 0)\u001b[K\n",
      "Receiving objects: 100% (28/28), 436.74 KiB | 669.00 KiB/s, done.\n",
      "Resolving deltas: 100% (6/6), done.\n"
     ]
    }
   ],
   "source": [
    "# Clone the data repository into colab\n",
    "!git clone https://github.com/openknowledge/workshop-genai-data.git\n",
    "PROCESSED_DATA_PATH = \"/content/workshop-genai-data/processed/gutenberg/\""
   ]
  },
  {
   "cell_type": "code",
   "execution_count": 3,
   "metadata": {
    "id": "z06SMoItD5kL"
   },
   "outputs": [],
   "source": [
    "# import colab specific lib to read user data (aka colab managed secrets)\n",
    "from google.colab import userdata"
   ]
  },
  {
   "cell_type": "code",
   "execution_count": 4,
   "metadata": {
    "id": "-DqbDZeWD6nS"
   },
   "outputs": [],
   "source": [
    "# Initialize Google GenAI Client API with GOOGLE_API_KEY to be able to call the model.\n",
    "# Note: GEMINI_API_KEY must be set as COLAB userdata before!\n",
    "GOOGLE_API_KEY=userdata.get('GEMINI_API_KEY')\n",
    "genai.configure(api_key=GOOGLE_API_KEY)"
   ]
  },
  {
   "cell_type": "code",
   "execution_count": 5,
   "metadata": {
    "collapsed": true,
    "id": "OFEsl___H2n4"
   },
   "outputs": [],
   "source": [
    "# Install additional libraries\n",
    "%%capture\n",
    "!pip install -qU langchain-text-splitters\n",
    "!pip install chromadb"
   ]
  },
  {
   "cell_type": "code",
   "execution_count": 6,
   "metadata": {
    "id": "l3UN1LX-IEcp"
   },
   "outputs": [],
   "source": [
    "# Import additional libraries\n",
    "from langchain_text_splitters import RecursiveCharacterTextSplitter\n",
    "from chromadb import EphemeralClient\n",
    "import uuid"
   ]
  },
  {
   "cell_type": "code",
   "execution_count": 7,
   "metadata": {
    "id": "RKG1EPEGdvvC"
   },
   "outputs": [],
   "source": [
    "# Set default values for model, model parameters and prompt\n",
    "DEFAULT_MODEL = \"gemini-1.5-flash\"\n",
    "DEFAULT_CONFIG_TEMPERATURE = 0.9\n",
    "DEFAULT_CONFIG_TOP_K = 1\n",
    "DEFAULT_CONFIG_MAX_OUTPUT_TOKENS = 200\n",
    "DEFAULT_SYSTEM_PROMPT = \"Your are a friendly assistant\"\n",
    "DEFAULT_USER_PROMPT = \" \""
   ]
  },
  {
   "cell_type": "markdown",
   "metadata": {
    "id": "n9KmE1dxPJzm"
   },
   "source": [
    "## Define helper functions"
   ]
  },
  {
   "cell_type": "code",
   "execution_count": 8,
   "metadata": {
    "id": "CJW72wGgPOxt"
   },
   "outputs": [],
   "source": [
    "# This will be the chromadb collection we use as a knowledge base. We do not need the in-memory EphemeralClient.\n",
    "chromadb_collection = EphemeralClient().get_or_create_collection(name=\"default\")\n",
    "\n",
    "# Have a look into the knowledgebase\n",
    "def peek_knowledgebase():\n",
    "  print(chromadb_collection.peek())"
   ]
  },
  {
   "cell_type": "code",
   "execution_count": 9,
   "metadata": {
    "id": "4s8AAOATdqCa"
   },
   "outputs": [],
   "source": [
    "def call_genai_model_for_completion(\n",
    "        model_name: str = DEFAULT_MODEL,\n",
    "        config_temperature:float = DEFAULT_CONFIG_TEMPERATURE,\n",
    "        config_top_k: int = DEFAULT_CONFIG_TOP_K,\n",
    "        config_max_output_tokens: int = DEFAULT_CONFIG_MAX_OUTPUT_TOKENS,\n",
    "        system_prompt : str = DEFAULT_SYSTEM_PROMPT,\n",
    "        user_prompt : str = DEFAULT_USER_PROMPT,\n",
    "        verbose: bool = False\n",
    "        ):\n",
    "\n",
    "    if verbose:\n",
    "        # print out summary of input values / parameters\n",
    "        print(f'Generating answer for following config:')\n",
    "        print(f'  - SYSTEM PROMPT used:\\n {system_prompt}')\n",
    "        print(f'  - USER PROMPT used:\\n {user_prompt}')\n",
    "        print(f'  - MODEL used:\\n {model_name} (temperature = {config_temperature}, top_k = {config_top_k}, max_output_tokens = {config_max_output_tokens})')\n",
    "\n",
    "    # create generation config\n",
    "    model_config = genai.GenerationConfig(\n",
    "        max_output_tokens=config_max_output_tokens,\n",
    "        temperature=config_temperature,\n",
    "        top_k=config_top_k\n",
    "    )\n",
    "\n",
    "    # create genai model with generation config\n",
    "    genai_model = genai.GenerativeModel(\n",
    "        model_name= model_name,\n",
    "        generation_config= model_config\n",
    "    )\n",
    "\n",
    "    response = genai_model.generate_content([system_prompt, user_prompt])\n",
    "    return response"
   ]
  },
  {
   "cell_type": "code",
   "execution_count": 10,
   "metadata": {
    "id": "K4fP0xbJeLAK"
   },
   "outputs": [],
   "source": [
    "def print_completion_result(completion_result, full:bool = False):\n",
    "\n",
    "    # print out answer of genai model (aka text of response)\n",
    "    print(f'\\nANSWER of genAI model: \\n')\n",
    "    if full:\n",
    "        print(completion_result)\n",
    "    else:\n",
    "        print(completion_result.text)"
   ]
  },
  {
   "cell_type": "markdown",
   "metadata": {
    "id": "HqcAgsAzEl2A"
   },
   "source": [
    "# Step 2: Configure the genAI models"
   ]
  },
  {
   "cell_type": "code",
   "execution_count": 11,
   "metadata": {
    "id": "zWcu0XZgEucE"
   },
   "outputs": [],
   "source": [
    "GENERATION_MODEL = \"gemini-1.5-flash\"\n",
    "EMBEDDING_MODEL = \"models/text-embedding-004\""
   ]
  },
  {
   "cell_type": "markdown",
   "metadata": {
    "id": "EigTzQ_eAWd1"
   },
   "source": [
    "# Step 3: Configure retriever"
   ]
  },
  {
   "cell_type": "code",
   "execution_count": 12,
   "metadata": {
    "id": "FeNQxSjSALrG"
   },
   "outputs": [],
   "source": [
    "DEFAULT_K = 3\n",
    "DEFAULT_CHUNK_SIZE = 2000\n",
    "DEFAULT_CHUNK_OVERLAP = 100"
   ]
  },
  {
   "cell_type": "markdown",
   "metadata": {
    "id": "Xd-X4JzHCBui"
   },
   "source": [
    "# Step 4: Define RAG Building Blocks"
   ]
  },
  {
   "cell_type": "code",
   "execution_count": 13,
   "metadata": {
    "id": "Sd_hrTtE-chD",
    "vscode": {
     "languageId": "plaintext"
    }
   },
   "outputs": [],
   "source": [
    "# Get content of books. The content will already be cleansed.\n",
    "def load_file_content(file_name: str) -> str:\n",
    "  with open(f\"{PROCESSED_DATA_PATH}{file_name}\", \"r\") as f:\n",
    "    return f.read()"
   ]
  },
  {
   "cell_type": "code",
   "execution_count": 14,
   "metadata": {
    "id": "BquBXbJxBYWd"
   },
   "outputs": [],
   "source": [
    "# Building Block \"Chunking\": Split the content into smaller chunks\n",
    "def do_chunk(text: str) -> list[str]:\n",
    "  text_splitter = RecursiveCharacterTextSplitter(\n",
    "      chunk_size=DEFAULT_CHUNK_SIZE,\n",
    "      chunk_overlap=DEFAULT_CHUNK_OVERLAP,\n",
    "      length_function=len,\n",
    "  )\n",
    "  return text_splitter.split_text(text=text)"
   ]
  },
  {
   "cell_type": "code",
   "execution_count": 15,
   "metadata": {
    "id": "1cuFXzCyBxdU"
   },
   "outputs": [],
   "source": [
    "# Building Block \"Embedding\": Create multi dimensional embeddings for a given chunk.\n",
    "def do_embed(chunk: str) -> list[float]:\n",
    "  return genai.embed_content(model=EMBEDDING_MODEL, content=chunk).get(\"embedding\")\n",
    "\n",
    "def do_batch_embed(chunks: list[str]) -> list[list[float]]:\n",
    "  return genai.embed_content(model=EMBEDDING_MODEL, content=chunks).get(\"embedding\")"
   ]
  },
  {
   "cell_type": "code",
   "execution_count": 16,
   "metadata": {
    "id": "hpJduX2pSzxi"
   },
   "outputs": [],
   "source": [
    "# Building Block \"Knowledgebase\": Store embeddings and the corresponding content in a vectorstore\n",
    "def persist_embeddings(chunks: list[str], embeddings: list[float])-> None:\n",
    "  ids = [str(uuid.uuid4()) for _ in chunks]\n",
    "  chromadb_collection.add(ids=ids, documents=chunks, embeddings=embeddings)"
   ]
  },
  {
   "cell_type": "code",
   "execution_count": 17,
   "metadata": {
    "id": "Fyut_CCPC37U"
   },
   "outputs": [],
   "source": [
    "# Building Block \"Augmentation\": Create an updated prompt by merging the original user input with the provided context\n",
    "def augment(user_input: str, context: list[str]) -> str:\n",
    "  prepared_context = \"\\n\".join(context)\n",
    "  augmented_prompt = f\"\"\"\n",
    "    Answer the question as detailed as possible from the provided context, make sure to provide all the details, if the answer is not in\n",
    "    provided context just say, \"answer is not available in the context\", don't provide the wrong answer\\n\\n\n",
    "    Context:\\n{prepared_context}?\\n\n",
    "    Question: \\n{user_input}\\n\n",
    "\n",
    "    Answer:\n",
    "  \"\"\"\n",
    "  return augmented_prompt"
   ]
  },
  {
   "cell_type": "code",
   "execution_count": 18,
   "metadata": {
    "id": "BKHUg84XDLRp"
   },
   "outputs": [],
   "source": [
    "# Building Block \"Top-k Fetching\": Get the k semantically closest chunks to the user input from the knowledgebase\n",
    "def do_top_k_fetching(user_input_embedding: list[float], k: int) -> list[str]:\n",
    "  # Since we will do the fetching always only for one user_input,\n",
    "  # instead of querying for multiple embeddings simultanously as allowed by the choma API,\n",
    "  # we add the embeddings below to a list and return only the first document (chunk)\n",
    "  return chromadb_collection.query(\n",
    "      query_embeddings=[user_input_embedding],\n",
    "      n_results=k,\n",
    "  )[\"documents\"][0]"
   ]
  },
  {
   "cell_type": "code",
   "execution_count": 19,
   "metadata": {
    "id": "ARQ8Pxo1d7kq"
   },
   "outputs": [],
   "source": [
    "# Building Block \"Generation\": Use the generation model to create a response\n",
    "def generate_response(prompt: str) -> None:\n",
    "  completion_result = call_genai_model_for_completion(\n",
    "      model_name=GENERATION_MODEL,\n",
    "      user_prompt=prompt,\n",
    "  )\n",
    "  print_completion_result(completion_result)"
   ]
  },
  {
   "cell_type": "markdown",
   "metadata": {
    "id": "h7A5e_dY-chC"
   },
   "source": [
    "# Step 5: Create the ingestion pipeline"
   ]
  },
  {
   "cell_type": "code",
   "execution_count": 20,
   "metadata": {
    "id": "HalhxNB8-chE",
    "vscode": {
     "languageId": "plaintext"
    }
   },
   "outputs": [],
   "source": [
    "def do_ingestion(file_names: list[str]) -> None:\n",
    "  # Ingest file by file\n",
    "  for file_name in file_names:\n",
    "    # Load prepared book content\n",
    "    file_content = load_file_content(file_name)\n",
    "\n",
    "    # Chunk the content into smaller chunks\n",
    "    chunks = do_chunk(file_content)\n",
    "\n",
    "    # Embed the chunks\n",
    "    embeddings = do_batch_embed(chunks)\n",
    "\n",
    "    # Persist the embeddings and the chunks in the knowledgebase\n",
    "    persist_embeddings(chunks, embeddings)\n"
   ]
  },
  {
   "cell_type": "markdown",
   "metadata": {
    "id": "8u56sn0894D4"
   },
   "source": [
    "# Step 6: Perform ingestion"
   ]
  },
  {
   "cell_type": "code",
   "execution_count": 21,
   "metadata": {
    "id": "GC2yAP9QWN2x"
   },
   "outputs": [],
   "source": [
    "# Define file names to be ingested\n",
    "file_names = ['study_in_scarlett.txt']\n",
    "\n",
    "# Perform ingestion. Depending on the chunk_size this might take some minutes.\n",
    "do_ingestion(file_names)"
   ]
  },
  {
   "cell_type": "code",
   "execution_count": 22,
   "metadata": {
    "colab": {
     "base_uri": "https://localhost:8080/"
    },
    "id": "DaQ8u7tj_UVG",
    "outputId": "931992f3-a85a-49ef-e614-1e82728be750"
   },
   "outputs": [
    {
     "name": "stdout",
     "output_type": "stream",
     "text": [
      "{'ids': ['da1cc01f-1c64-4f82-9456-2ed6a365604b', '3045aa67-8a28-469f-a15d-82a9a4c31b6c', '7cc5c1e9-2f2b-4460-8e97-a4f9205352ac', '2af8a782-f3eb-4647-986c-4fa9f59a6271', '63cdad02-6f88-48dd-a689-ca8c54469d74', '8c332258-642f-463d-a539-812ab4bbbfda', '3c66f79d-7c93-4f14-b52a-bc3fb6d15262', '07b05615-b98c-4e76-acfc-900c821df04b', '00276b89-8ada-40c2-9d40-5beecf37f2a4', 'b29f7f19-3186-42d1-9cbb-c1bb5cc8f8ef'], 'embeddings': array([[ 0.04527783,  0.04658872, -0.02287614, ..., -0.00307323,\n",
      "         0.0339922 , -0.05425236],\n",
      "       [ 0.05111597,  0.00918984, -0.03866111, ...,  0.01949182,\n",
      "         0.01476763, -0.05980605],\n",
      "       [ 0.05621178, -0.00796154, -0.01433838, ..., -0.02149183,\n",
      "         0.0053122 , -0.05220319],\n",
      "       ...,\n",
      "       [ 0.02364247,  0.01167416, -0.02995582, ..., -0.04703662,\n",
      "        -0.01098349, -0.0318405 ],\n",
      "       [-0.00460235,  0.00886577, -0.03714716, ..., -0.04433972,\n",
      "         0.01823584, -0.04718024],\n",
      "       [ 0.03279264, -0.0086745 , -0.0115139 , ..., -0.01131358,\n",
      "         0.00296231, -0.04411405]]), 'documents': ['A STUDY IN SCARLET  By A. Conan Doyle     CONTENTS   A STUDY IN SCARLET.   PART I.  CHAPTER I. MR. SHERLOCK HOLMES.  CHAPTER II. THE SCIENCE OF DEDUCTION.  CHAPTER III. THE LAURISTON GARDENS MYSTERY  CHAPTER IV. WHAT JOHN RANCE HAD TO TELL.  CHAPTER V. OUR ADVERTISEMENT BRINGS A VISITOR.  CHAPTER VI. TOBIAS GREGSON SHOWS WHAT HE CAN DO.  CHAPTER VII. LIGHT IN THE DARKNESS.   PART II. THE COUNTRY OF THE SAINTS  CHAPTER I. ON THE GREAT ALKALI PLAIN.  CHAPTER II. THE FLOWER OF UTAH.  CHAPTER III. JOHN FERRIER TALKS WITH THE PROPHET.  CHAPTER IV. A FLIGHT FOR LIFE.  CHAPTER V. THE AVENGING ANGELS.  CHAPTER VI. A CONTINUATION OF THE REMINISCENCES OF JOHN WATSON, M.D.  CHAPTER VII. THE CONCLUSION.     A STUDY IN SCARLET.     PART I.   (_Being a reprint from the Reminiscences of_ JOHN H. WATSON, M.D., _Late of the Army Medical Department._)     CHAPTER I. MR. SHERLOCK HOLMES.   In the year 1878 I took my degree of Doctor of Medicine of the University of London, and proceeded to Netley to go through the course prescribed for surgeons in the army. Having completed my studies there, I was duly attached to the Fifth Northumberland Fusiliers as Assistant Surgeon. The regiment was stationed in India at the time, and before I could join it, the second Afghan war had broken out. On landing at Bombay, I learned that my corps had advanced through the passes, and was already deep in the enemy’s country. I followed, however, with many other officers who were in the same situation as myself, and succeeded in reaching Candahar in safety, where I found my regiment, and at once entered upon my new duties.  The campaign brought honours and promotion to many, but for me it had nothing but misfortune and disaster. I was removed from my brigade and attached to the Berkshires, with whom I served at the fatal battle of Maiwand. There I was struck on the shoulder by a Jezail bullet, which shattered the bone and grazed the subclavian artery. I should have fallen into the hands of the murderous', 'the bone and grazed the subclavian artery. I should have fallen into the hands of the murderous Ghazis had it not been for the devotion and courage shown by Murray, my orderly, who threw me across a pack-horse, and succeeded in bringing me safely to the British lines.  Worn with pain, and weak from the prolonged hardships which I had undergone, I was removed, with a great train of wounded sufferers, to the base hospital at Peshawar. Here I rallied, and had already improved so far as to be able to walk about the wards, and even to bask a little upon the verandah, when I was struck down by enteric fever, that curse of our Indian possessions. For months my life was despaired of, and when at last I came to myself and became convalescent, I was so weak and emaciated that a medical board determined that not a day should be lost in sending me back to England. I was dispatched, accordingly, in the troopship “Orontes,” and landed a month later on Portsmouth jetty, with my health irretrievably ruined, but with permission from a paternal government to spend the next nine months in attempting to improve it.  I had neither kith nor kin in England, and was therefore as free as air—or as free as an income of eleven shillings and sixpence a day will permit a man to be. Under such circumstances, I naturally gravitated to London, that great cesspool into which all the loungers and idlers of the Empire are irresistibly drained. There I stayed for some time at a private hotel in the Strand, leading a comfortless, meaningless existence, and spending such money as I had, considerably more freely than I ought. So alarming did the state of my finances become, that I soon realized that I must either leave the metropolis and rusticate somewhere in the country, or that I must make a complete alteration in my style of living. Choosing the latter alternative, I began by making up my mind to leave the hotel, and to take up my quarters in some less pretentious and less expensive domicile.  On', 'the hotel, and to take up my quarters in some less pretentious and less expensive domicile.  On the very day that I had come to this conclusion, I was standing at the Criterion Bar, when some one tapped me on the shoulder, and turning round I recognized young Stamford, who had been a dresser under me at Barts. The sight of a friendly face in the great wilderness of London is a pleasant thing indeed to a lonely man. In old days Stamford had never been a particular crony of mine, but now I hailed him with enthusiasm, and he, in his turn, appeared to be delighted to see me. In the exuberance of my joy, I asked him to lunch with me at the Holborn, and we started off together in a hansom.  “Whatever have you been doing with yourself, Watson?” he asked in undisguised wonder, as we rattled through the crowded London streets. “You are as thin as a lath and as brown as a nut.”  I gave him a short sketch of my adventures, and had hardly concluded it by the time that we reached our destination.  “Poor devil!” he said, commiseratingly, after he had listened to my misfortunes. “What are you up to now?”  “Looking for lodgings,” I answered. “Trying to solve the problem as to whether it is possible to get comfortable rooms at a reasonable price.”  “That’s a strange thing,” remarked my companion; “you are the second man to-day that has used that expression to me.”  “And who was the first?” I asked.  “A fellow who is working at the chemical laboratory up at the hospital. He was bemoaning himself this morning because he could not get someone to go halves with him in some nice rooms which he had found, and which were too much for his purse.”  “By Jove!” I cried, “if he really wants someone to share the rooms and the expense, I am the very man for him. I should prefer having a partner to being alone.”  Young Stamford looked rather strangely at me over his wine-glass. “You don’t know Sherlock Holmes yet,” he said; “perhaps you would not care for him as a constant companion.”  “Why, what', 'Holmes yet,” he said; “perhaps you would not care for him as a constant companion.”  “Why, what is there against him?”  “Oh, I didn’t say there was anything against him. He is a little queer in his ideas—an enthusiast in some branches of science. As far as I know he is a decent fellow enough.”  “A medical student, I suppose?” said I.  “No—I have no idea what he intends to go in for. I believe he is well up in anatomy, and he is a first-class chemist; but, as far as I know, he has never taken out any systematic medical classes. His studies are very desultory and eccentric, but he has amassed a lot of out-of-the way knowledge which would astonish his professors.”  “Did you never ask him what he was going in for?” I asked.  “No; he is not a man that it is easy to draw out, though he can be communicative enough when the fancy seizes him.”  “I should like to meet him,” I said. “If I am to lodge with anyone, I should prefer a man of studious and quiet habits. I am not strong enough yet to stand much noise or excitement. I had enough of both in Afghanistan to last me for the remainder of my natural existence. How could I meet this friend of yours?”  “He is sure to be at the laboratory,” returned my companion. “He either avoids the place for weeks, or else he works there from morning to night. If you like, we shall drive round together after luncheon.”  “Certainly,” I answered, and the conversation drifted away into other channels.  As we made our way to the hospital after leaving the Holborn, Stamford gave me a few more particulars about the gentleman whom I proposed to take as a fellow-lodger.  “You mustn’t blame me if you don’t get on with him,” he said; “I know nothing more of him than I have learned from meeting him occasionally in the laboratory. You proposed this arrangement, so you must not hold me responsible.”  “If we don’t get on it will be easy to part company,” I answered. “It seems to me, Stamford,” I added, looking hard at my companion, “that you have some', 'I answered. “It seems to me, Stamford,” I added, looking hard at my companion, “that you have some reason for washing your hands of the matter. Is this fellow’s temper so formidable, or what is it? Don’t be mealy-mouthed about it.”  “It is not easy to express the inexpressible,” he answered with a laugh. “Holmes is a little too scientific for my tastes—it approaches to cold-bloodedness. I could imagine his giving a friend a little pinch of the latest vegetable alkaloid, not out of malevolence, you understand, but simply out of a spirit of inquiry in order to have an accurate idea of the effects. To do him justice, I think that he would take it himself with the same readiness. He appears to have a passion for definite and exact knowledge.”  “Very right too.”  “Yes, but it may be pushed to excess. When it comes to beating the subjects in the dissecting-rooms with a stick, it is certainly taking rather a bizarre shape.”  “Beating the subjects!”  “Yes, to verify how far bruises may be produced after death. I saw him at it with my own eyes.”  “And yet you say he is not a medical student?”  “No. Heaven knows what the objects of his studies are. But here we are, and you must form your own impressions about him.” As he spoke, we turned down a narrow lane and passed through a small side-door, which opened into a wing of the great hospital. It was familiar ground to me, and I needed no guiding as we ascended the bleak stone staircase and made our way down the long corridor with its vista of whitewashed wall and dun-coloured doors. Near the further end a low arched passage branched away from it and led to the chemical laboratory.  This was a lofty chamber, lined and littered with countless bottles. Broad, low tables were scattered about, which bristled with retorts, test-tubes, and little Bunsen lamps, with their blue flickering flames. There was only one student in the room, who was bending over a distant table absorbed in his work. At the sound of our steps he glanced round', 'was bending over a distant table absorbed in his work. At the sound of our steps he glanced round and sprang to his feet with a cry of pleasure. “I’ve found it! I’ve found it,” he shouted to my companion, running towards us with a test-tube in his hand. “I have found a re-agent which is precipitated by hæmoglobin, and by nothing else.” Had he discovered a gold mine, greater delight could not have shone upon his features.  “Dr. Watson, Mr. Sherlock Holmes,” said Stamford, introducing us.  “How are you?” he said cordially, gripping my hand with a strength for which I should hardly have given him credit. “You have been in Afghanistan, I perceive.”  “How on earth did you know that?” I asked in astonishment.  “Never mind,” said he, chuckling to himself. “The question now is about hæmoglobin. No doubt you see the significance of this discovery of mine?”  “It is interesting, chemically, no doubt,” I answered, “but practically——”  “Why, man, it is the most practical medico-legal discovery for years. Don’t you see that it gives us an infallible test for blood stains. Come over here now!” He seized me by the coat-sleeve in his eagerness, and drew me over to the table at which he had been working. “Let us have some fresh blood,” he said, digging a long bodkin into his finger, and drawing off the resulting drop of blood in a chemical pipette. “Now, I add this small quantity of blood to a litre of water. You perceive that the resulting mixture has the appearance of pure water. The proportion of blood cannot be more than one in a million. I have no doubt, however, that we shall be able to obtain the characteristic reaction.” As he spoke, he threw into the vessel a few white crystals, and then added some drops of a transparent fluid. In an instant the contents assumed a dull mahogany colour, and a brownish dust was precipitated to the bottom of the glass jar.  “Ha! ha!” he cried, clapping his hands, and looking as delighted as a child with a new toy. “What do you think of that?”', 'his hands, and looking as delighted as a child with a new toy. “What do you think of that?”  “It seems to be a very delicate test,” I remarked.  “Beautiful! beautiful! The old Guiacum test was very clumsy and uncertain. So is the microscopic examination for blood corpuscles. The latter is valueless if the stains are a few hours old. Now, this appears to act as well whether the blood is old or new. Had this test been invented, there are hundreds of men now walking the earth who would long ago have paid the penalty of their crimes.”  “Indeed!” I murmured.  “Criminal cases are continually hinging upon that one point. A man is suspected of a crime months perhaps after it has been committed. His linen or clothes are examined, and brownish stains discovered upon them. Are they blood stains, or mud stains, or rust stains, or fruit stains, or what are they? That is a question which has puzzled many an expert, and why? Because there was no reliable test. Now we have the Sherlock Holmes’ test, and there will no longer be any difficulty.”  His eyes fairly glittered as he spoke, and he put his hand over his heart and bowed as if to some applauding crowd conjured up by his imagination.  “You are to be congratulated,” I remarked, considerably surprised at his enthusiasm.  “There was the case of Von Bischoff at Frankfort last year. He would certainly have been hung had this test been in existence. Then there was Mason of Bradford, and the notorious Muller, and Lefevre of Montpellier, and Samson of New Orleans. I could name a score of cases in which it would have been decisive.”  “You seem to be a walking calendar of crime,” said Stamford with a laugh. “You might start a paper on those lines. Call it the ‘Police News of the Past.’”  “Very interesting reading it might be made, too,” remarked Sherlock Holmes, sticking a small piece of plaster over the prick on his finger. “I have to be careful,” he continued, turning to me with a smile, “for I dabble with poisons a good deal.” He', 'be careful,” he continued, turning to me with a smile, “for I dabble with poisons a good deal.” He held out his hand as he spoke, and I noticed that it was all mottled over with similar pieces of plaster, and discoloured with strong acids.  “We came here on business,” said Stamford, sitting down on a high three-legged stool, and pushing another one in my direction with his foot. “My friend here wants to take diggings, and as you were complaining that you could get no one to go halves with you, I thought that I had better bring you together.”  Sherlock Holmes seemed delighted at the idea of sharing his rooms with me. “I have my eye on a suite in Baker Street,” he said, “which would suit us down to the ground. You don’t mind the smell of strong tobacco, I hope?”  “I always smoke ‘ship’s’ myself,” I answered.  “That’s good enough. I generally have chemicals about, and occasionally do experiments. Would that annoy you?”  “By no means.”  “Let me see—what are my other shortcomings. I get in the dumps at times, and don’t open my mouth for days on end. You must not think I am sulky when I do that. Just let me alone, and I’ll soon be right. What have you to confess now? It’s just as well for two fellows to know the worst of one another before they begin to live together.”  I laughed at this cross-examination. “I keep a bull pup,” I said, “and I object to rows because my nerves are shaken, and I get up at all sorts of ungodly hours, and I am extremely lazy. I have another set of vices when I’m well, but those are the principal ones at present.”  “Do you include violin-playing in your category of rows?” he asked, anxiously.  “It depends on the player,” I answered. “A well-played violin is a treat for the gods—a badly-played one——”  “Oh, that’s all right,” he cried, with a merry laugh. “I think we may consider the thing as settled—that is, if the rooms are agreeable to you.”  “When shall we see them?”  “Call for me here at noon to-morrow, and we’ll go together and settle', '“When shall we see them?”  “Call for me here at noon to-morrow, and we’ll go together and settle everything,” he answered.  “All right—noon exactly,” said I, shaking his hand.  We left him working among his chemicals, and we walked together towards my hotel.  “By the way,” I asked suddenly, stopping and turning upon Stamford, “how the deuce did he know that I had come from Afghanistan?”  My companion smiled an enigmatical smile. “That’s just his little peculiarity,” he said. “A good many people have wanted to know how he finds things out.”  “Oh! a mystery is it?” I cried, rubbing my hands. “This is very piquant. I am much obliged to you for bringing us together. ‘The proper study of mankind is man,’ you know.”  “You must study him, then,” Stamford said, as he bade me good-bye. “You’ll find him a knotty problem, though. I’ll wager he learns more about you than you about him. Good-bye.”  “Good-bye,” I answered, and strolled on to my hotel, considerably interested in my new acquaintance.     CHAPTER II. THE SCIENCE OF DEDUCTION.   We met next day as he had arranged, and inspected the rooms at No. 221B, Baker Street, of which he had spoken at our meeting. They consisted of a couple of comfortable bed-rooms and a single large airy sitting-room, cheerfully furnished, and illuminated by two broad windows. So desirable in every way were the apartments, and so moderate did the terms seem when divided between us, that the bargain was concluded upon the spot, and we at once entered into possession. That very evening I moved my things round from the hotel, and on the following morning Sherlock Holmes followed me with several boxes and portmanteaus. For a day or two we were busily employed in unpacking and laying out our property to the best advantage. That done, we gradually began to settle down and to accommodate ourselves to our new surroundings.  Holmes was certainly not a difficult man to live with. He was quiet in his ways, and his habits were regular. It was rare for', 'difficult man to live with. He was quiet in his ways, and his habits were regular. It was rare for him to be up after ten at night, and he had invariably breakfasted and gone out before I rose in the morning. Sometimes he spent his day at the chemical laboratory, sometimes in the dissecting-rooms, and occasionally in long walks, which appeared to take him into the lowest portions of the City. Nothing could exceed his energy when the working fit was upon him; but now and again a reaction would seize him, and for days on end he would lie upon the sofa in the sitting-room, hardly uttering a word or moving a muscle from morning to night. On these occasions I have noticed such a dreamy, vacant expression in his eyes, that I might have suspected him of being addicted to the use of some narcotic, had not the temperance and cleanliness of his whole life forbidden such a notion.  As the weeks went by, my interest in him and my curiosity as to his aims in life, gradually deepened and increased. His very person and appearance were such as to strike the attention of the most casual observer. In height he was rather over six feet, and so excessively lean that he seemed to be considerably taller. His eyes were sharp and piercing, save during those intervals of torpor to which I have alluded; and his thin, hawk-like nose gave his whole expression an air of alertness and decision. His chin, too, had the prominence and squareness which mark the man of determination. His hands were invariably blotted with ink and stained with chemicals, yet he was possessed of extraordinary delicacy of touch, as I frequently had occasion to observe when I watched him manipulating his fragile philosophical instruments.  The reader may set me down as a hopeless busybody, when I confess how much this man stimulated my curiosity, and how often I endeavoured to break through the reticence which he showed on all that concerned himself. Before pronouncing judgment, however, be it remembered, how objectless'], 'uris': None, 'data': None, 'metadatas': [None, None, None, None, None, None, None, None, None, None], 'included': [<IncludeEnum.embeddings: 'embeddings'>, <IncludeEnum.documents: 'documents'>, <IncludeEnum.metadatas: 'metadatas'>]}\n"
     ]
    }
   ],
   "source": [
    "# Use helper function to peek into knowledgebase\n",
    "peek_knowledgebase()"
   ]
  },
  {
   "cell_type": "markdown",
   "metadata": {
    "id": "bAKlDC8WclSD"
   },
   "source": [
    "# Step 7: Create RAG pipeline"
   ]
  },
  {
   "cell_type": "code",
   "execution_count": 23,
   "metadata": {
    "id": "Tehtlj-T_wDc"
   },
   "outputs": [],
   "source": [
    "def do_rag(user_input: str, verbose: bool = False) -> None:\n",
    "  # Embed the user input\n",
    "  user_input_embedding = do_embed(chunk=user_input)\n",
    "\n",
    "  # \"R\" like \"Retrieval\": Get the k semantically closest chunks to the user input from the knowledgebase\n",
    "  context = do_top_k_fetching(user_input_embedding=user_input_embedding, k=DEFAULT_K)\n",
    "  if verbose:\n",
    "    print(f'Retrieved context:\\n {context}')\n",
    "\n",
    "  # \"A\" like \"Augmented\": Create the augmented prompt\n",
    "  augmented_prompt = augment(user_input=user_input, context=context)\n",
    "  if verbose:\n",
    "    print(f'Augmented prompt:\\n {augmented_prompt}')\n",
    "\n",
    "  # \"G\" like \"Generation\": Generate a response\n",
    "  generate_response(prompt=augmented_prompt)\n"
   ]
  },
  {
   "cell_type": "markdown",
   "metadata": {
    "id": "zNJLZOUOBhxC"
   },
   "source": [
    "# Step 8: Perform RAG"
   ]
  },
  {
   "cell_type": "code",
   "execution_count": 24,
   "metadata": {
    "colab": {
     "base_uri": "https://localhost:8080/",
     "height": 104
    },
    "id": "BeRJbjeZcn-i",
    "outputId": "3162dc03-69a1-4313-b1ff-dbbbef8abce3"
   },
   "outputs": [
    {
     "name": "stdout",
     "output_type": "stream",
     "text": [
      "\n",
      "ANSWER of genAI model: \n",
      "\n",
      "The number written on the ceiling was **28**. \n",
      "\n"
     ]
    }
   ],
   "source": [
    "# Define user input. This should be a question regarding the ingested book\n",
    "user_input = \"Lucy noticed a number on the ceiling when taking breakfast. which number was written into the ceiling?\" # The answer should contain the number \"28\"\n",
    "\n",
    "# Perform retrieval\n",
    "do_rag(user_input=user_input)"
   ]
  },
  {
   "cell_type": "markdown",
   "metadata": {
    "id": "zyuiQ0WK-chE"
   },
   "source": []
  }
 ],
 "metadata": {
  "colab": {
   "provenance": []
  },
  "kernelspec": {
   "display_name": "Python 3",
   "name": "python3"
  },
  "language_info": {
   "name": "python"
  }
 },
 "nbformat": 4,
 "nbformat_minor": 0
}
