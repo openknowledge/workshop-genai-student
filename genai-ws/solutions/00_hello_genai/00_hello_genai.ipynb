{
 "cells": [
  {
   "cell_type": "markdown",
   "id": "1b8b6742cff65fee",
   "metadata": {
    "collapsed": false
   },
   "source": []
  },
  {
   "cell_type": "markdown",
   "id": "b938e36a3a85e97d",
   "metadata": {
    "collapsed": false
   },
   "source": [
    "# GenAI Workshop\n",
    "## Lesson 1: Hello GenAI World \n",
    "\n",
    "This example is intended to familiarise you with the Jupyter notebook environment. \n",
    "\n",
    "In addition, we will build a simple first GenAi application. \n",
    "\n",
    "To do this, we proceed in 4 steps:\n",
    "\n",
    "- Step 1: Set up the environment \n",
    "- Step 2: Configure the genAI model \n",
    "- Step 3: Set up the prompt\n",
    "- Step 4: Call the model "
   ]
  },
  {
   "cell_type": "markdown",
   "id": "e600adda22789bde",
   "metadata": {
    "collapsed": false
   },
   "source": [
    "### Step 1: Set up the environment "
   ]
  },
  {
   "cell_type": "markdown",
   "id": "4b94c0f71909f6ae",
   "metadata": {
    "collapsed": false
   },
   "source": [
    "Check runtime environment: "
   ]
  },
  {
   "cell_type": "code",
   "execution_count": null,
   "id": "cbeeafd26f6782f5",
   "metadata": {
    "collapsed": false
   },
   "outputs": [],
   "source": [
    "import os\n",
    "import google.generativeai as genai   \n",
    "\n",
    "if os.getenv(\"COLAB_RELEASE_TAG\"):\n",
    "   COLAB = True\n",
    "   print(\"Running on COLAB environment.\") \n",
    "else:\n",
    "   COLAB = False\n",
    "   print(\"WARNING: Running on LOCAL environment.\")"
   ]
  },
  {
   "cell_type": "code",
   "execution_count": null,
   "id": "e46c42368eef73ef",
   "metadata": {
    "collapsed": false
   },
   "outputs": [],
   "source": [
    "# import colab specific lib to read user data (aka colab managed secrets)\n",
    "from google.colab import userdata"
   ]
  },
  {
   "cell_type": "code",
   "execution_count": null,
   "id": "e292ed72b7fa718",
   "metadata": {
    "collapsed": false
   },
   "outputs": [],
   "source": [
    "# Initialize Google GenAI Client API with GOOGLE_API_KEY to be able to call the model. \n",
    "# Note: GEMINI_API_KEY must be set as COLAB userdata before! \n",
    "GEMINI_API_KEY=userdata.get('GEMINI_API_KEY')  "
   ]
  },
  {
   "cell_type": "code",
   "execution_count": null,
   "id": "16a64a9459a641b4",
   "metadata": {
    "collapsed": false
   },
   "outputs": [],
   "source": [
    "# Double check key settings by printing it out (or at least it length). \n",
    "if GEMINI_API_KEY: \n",
    "    print(f' GEMINI_API_KEY set with a length of {len(GEMINI_API_KEY)}')\n",
    "else: \n",
    "    print(f' ERROR: GEMINI_API_KEY not set correctly!')"
   ]
  },
  {
   "cell_type": "code",
   "execution_count": null,
   "id": "4919efe9ab6584cc",
   "metadata": {
    "collapsed": false
   },
   "outputs": [],
   "source": [
    "genai.configure(api_key=GEMINI_API_KEY)  "
   ]
  },
  {
   "cell_type": "markdown",
   "id": "14034189b3eeaf1b",
   "metadata": {
    "collapsed": false
   },
   "source": [
    "### Step 2: Configure the genAI model "
   ]
  },
  {
   "cell_type": "code",
   "execution_count": null,
   "id": "4c5fe081d5c7fcbd",
   "metadata": {
    "collapsed": false
   },
   "outputs": [],
   "source": [
    "# set GenAI model to use \n",
    "MODEL = \"gemini-1.5-flash\""
   ]
  },
  {
   "cell_type": "markdown",
   "id": "50370136a90f7066",
   "metadata": {
    "collapsed": false
   },
   "source": [
    "### Step 3: Set up the prompt "
   ]
  },
  {
   "cell_type": "code",
   "execution_count": null,
   "id": "cc520412a8197eeb",
   "metadata": {
    "collapsed": false
   },
   "outputs": [],
   "source": [
    "SYSTEM_PROMPT = \"You are a friendly assistant with a preference for Germany.\"\n",
    "USER_PROMPT = \"What is the most beautiful city in the world?\""
   ]
  },
  {
   "cell_type": "markdown",
   "id": "50e4439408134eff",
   "metadata": {
    "collapsed": false
   },
   "source": [
    "### Step 4: Call the model"
   ]
  },
  {
   "cell_type": "code",
   "execution_count": null,
   "id": "27a756b96c3e20c7",
   "metadata": {
    "collapsed": false
   },
   "outputs": [],
   "source": [
    "TEMPERATURE = 0.9\n",
    "MAX_OUTPUT_TOKENS = 400\n",
    "TOP_K = 2\n",
    "\n",
    "MODEL_CONFIG = genai.GenerationConfig(\n",
    "        max_output_tokens=MAX_OUTPUT_TOKENS,\n",
    "        temperature=TEMPERATURE,\n",
    "        top_k=TOP_K\n",
    "    )"
   ]
  },
  {
   "cell_type": "markdown",
   "id": "f8df5e60",
   "metadata": {},
   "source": [
    "### Exercise 01: Create a Generative Model object\n",
    "Use the genai library to create a generative model instance. Use MODEL and MODEL_CONFIG as parameters."
   ]
  },
  {
   "cell_type": "code",
   "execution_count": null,
   "id": "4a64a0135ef88578",
   "metadata": {
    "collapsed": false
   },
   "outputs": [],
   "source": [
    "# Create Generative Model with the help of the genai API.\n",
    "# Use MODEL and MODEL_CONFIG as parameters\n",
    "# TODO replace with working code\n",
    "genai_model = genai.GenerativeModel(\n",
    "    model_name=MODEL,\n",
    "    generation_config= MODEL_CONFIG\n",
    ")"
   ]
  },
  {
   "cell_type": "markdown",
   "id": "7d345ff3",
   "metadata": {},
   "source": [
    "### Exercise 02: Call the generative model to create a completion\n",
    "Generate the completion by calling the generate_content method of the genai model."
   ]
  },
  {
   "cell_type": "code",
   "execution_count": null,
   "id": "1d831629c07bdc7e",
   "metadata": {
    "collapsed": false
   },
   "outputs": [],
   "source": [
    "# Generate completion by calling the generate_content method of the genai model.\n",
    "# Use a list of SYSTEM_PROMPT and USER_PROMPT as parameters.\n",
    "# TODO replace with working code \n",
    "completion = genai_model.generate_content([SYSTEM_PROMPT, USER_PROMPT])"
   ]
  },
  {
   "cell_type": "markdown",
   "id": "d1491b29",
   "metadata": {},
   "source": [
    "### Exercise 03: Show the completion result\n",
    "Print only the text part of the completion."
   ]
  },
  {
   "cell_type": "code",
   "execution_count": null,
   "id": "e19fdd4224933606",
   "metadata": {
    "collapsed": false
   },
   "outputs": [],
   "source": [
    "# print out summary of input values / parameters \n",
    "print(f'SYSTEM PROMPT used:\\n {SYSTEM_PROMPT}')\n",
    "print(f'USER PROMPT used:\\n {USER_PROMPT}')\n",
    "print(f'MODEL used:\\n {MODEL} (temperature = {TEMPERATURE}, top_k = {TOP_K}, max_output_tokens = {MAX_OUTPUT_TOKENS})')\n",
    "\n",
    "# print out answer of genai model (aka text of response) \n",
    "print(f'\\nANSWER of genAI model: \\n')\n",
    "# TODO print answer aka text part of the response \n",
    "print(completion.text) "
   ]
  },
  {
   "cell_type": "code",
   "execution_count": null,
   "id": "f346e9198452b9f6",
   "metadata": {
    "collapsed": false
   },
   "outputs": [],
   "source": [
    "# for all the details of the response see \n",
    "print(f'\\nTOTAL RESPONSE of genAI model: \\n')\n",
    "print(completion)"
   ]
  }
 ],
 "metadata": {
  "kernelspec": {
   "display_name": "Python 3",
   "language": "python",
   "name": "python3"
  },
  "language_info": {
   "codemirror_mode": {
    "name": "ipython",
    "version": 2
   },
   "file_extension": ".py",
   "mimetype": "text/x-python",
   "name": "python",
   "nbconvert_exporter": "python",
   "pygments_lexer": "ipython2",
   "version": "2.7.6"
  }
 },
 "nbformat": 4,
 "nbformat_minor": 5
}
